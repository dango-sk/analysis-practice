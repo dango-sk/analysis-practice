{
 "cells": [
  {
   "cell_type": "markdown",
   "metadata": {},
   "source": [
    "# 문자와 문자열"
   ]
  },
  {
   "cell_type": "code",
   "execution_count": 3,
   "metadata": {},
   "outputs": [
    {
     "name": "stdout",
     "output_type": "stream",
     "text": [
      "Baekjoon\n",
      "4\n",
      "k\n"
     ]
    }
   ],
   "source": [
    "#27866번\n",
    "\n",
    "S = input()\n",
    "i = int(input())\n",
    "\n",
    "print(S)\n",
    "print(i)\n",
    "print(S[i-1])"
   ]
  },
  {
   "cell_type": "code",
   "execution_count": 4,
   "metadata": {},
   "outputs": [
    {
     "name": "stdout",
     "output_type": "stream",
     "text": [
      "Pulljima\n",
      "8\n"
     ]
    }
   ],
   "source": [
    "#2743번\n",
    "\n",
    "S = input()\n",
    "\n",
    "\n",
    "print(S)\n",
    "print(len(S))\n",
    "\n"
   ]
  },
  {
   "cell_type": "code",
   "execution_count": 5,
   "metadata": {},
   "outputs": [
    {
     "name": "stdout",
     "output_type": "stream",
     "text": [
      "AF\n",
      "00\n",
      "AB\n"
     ]
    }
   ],
   "source": [
    "#9086번\n",
    "\n",
    "\n",
    "T = int(input())\n",
    "\n",
    "for i in range(T):\n",
    "    S = input()\n",
    "    print(S[0], S[-1], sep='')\n",
    "\n"
   ]
  },
  {
   "cell_type": "code",
   "execution_count": 10,
   "metadata": {},
   "outputs": [
    {
     "name": "stdout",
     "output_type": "stream",
     "text": [
      "48\n"
     ]
    }
   ],
   "source": [
    "#11654\n",
    "\n",
    "S = input()\n",
    "print(ord(S))"
   ]
  },
  {
   "cell_type": "code",
   "execution_count": 14,
   "metadata": {},
   "outputs": [
    {
     "name": "stdout",
     "output_type": "stream",
     "text": [
      "15\n"
     ]
    }
   ],
   "source": [
    "#11720 \n",
    "\n",
    "N = int(input())\n",
    "num = input() #정수는 인덱스 처리 불가\n",
    "total_sum = 0 \n",
    "\n",
    "for i in range(N):\n",
    "    total_sum += int(num[i])\n",
    "print(total_sum)\n",
    "    "
   ]
  },
  {
   "cell_type": "code",
   "execution_count": 39,
   "metadata": {},
   "outputs": [
    {
     "name": "stdout",
     "output_type": "stream",
     "text": [
      "1 0 -1 -1 2 -1 -1 -1 -1 4 3 -1 -1 7 5 -1 -1 -1 -1 -1 -1 -1 -1 -1 -1 -1 "
     ]
    }
   ],
   "source": [
    "#10809\n",
    "\n",
    "s = input()\n",
    "x = 'abcdefghijklmnopqrstuvwxyz'\n",
    "\n",
    "for char in x:\n",
    "    print(s.find(char) , end=\" \")\n",
    "\n",
    "\n"
   ]
  },
  {
   "cell_type": "code",
   "execution_count": 53,
   "metadata": {},
   "outputs": [
    {
     "name": "stdout",
     "output_type": "stream",
     "text": [
      "AAABBBCCC\n",
      "/////HHHHHTTTTTPPPPP\n"
     ]
    }
   ],
   "source": [
    "#2675\n",
    "\n",
    "num = int(input())\n",
    "\n",
    "for i in range(num):\n",
    "    R = int(input())\n",
    "    S = input()\n",
    "    for s in range(len(S)):\n",
    "        print(S[s]*R , end=\"\")\n",
    "    print()"
   ]
  },
  {
   "cell_type": "code",
   "execution_count": 60,
   "metadata": {},
   "outputs": [
    {
     "name": "stdout",
     "output_type": "stream",
     "text": [
      "6\n"
     ]
    }
   ],
   "source": [
    "#1152\n",
    "# The Curious Case of Benjamin Button\n",
    "\n",
    "S = input()\n",
    "num_count = 1\n",
    "\n",
    "for i in S:\n",
    "    if ord(i) == 32:\n",
    "        num_count +=1 \n",
    "print(num_count)\n",
    "    "
   ]
  },
  {
   "cell_type": "code",
   "execution_count": 66,
   "metadata": {},
   "outputs": [
    {
     "data": {
      "text/plain": [
       "437"
      ]
     },
     "execution_count": 66,
     "metadata": {},
     "output_type": "execute_result"
    }
   ],
   "source": [
    "#2908 \n",
    "\n",
    "num1 = input()\n",
    "num2 = input()\n",
    "\n",
    "max(int(num1[::-1]),int(num2[::-1]))\n"
   ]
  },
  {
   "cell_type": "markdown",
   "metadata": {},
   "source": [
    "# 해설 봐도 모르겠는 문제들"
   ]
  },
  {
   "cell_type": "code",
   "execution_count": 85,
   "metadata": {},
   "outputs": [
    {
     "name": "stdout",
     "output_type": "stream",
     "text": [
      "11\n"
     ]
    }
   ],
   "source": [
    "#5622\n",
    "\n",
    "x = '000000abcdefghijklmnopqrstuvwxyz'\n",
    "\n",
    "\n",
    "s = input()\n",
    "second = 0 \n",
    "for char in s:\n",
    "   second += x.find(char)//3\n",
    "print(second)"
   ]
  },
  {
   "cell_type": "code",
   "execution_count": 1,
   "metadata": {},
   "outputs": [
    {
     "name": "stdout",
     "output_type": "stream",
     "text": [
      "\n",
      "Hello\n",
      "Baekjoon\n",
      "Online Judge\n",
      "\n"
     ]
    }
   ],
   "source": [
    "#11718 \n",
    "\n",
    "while True:\n",
    "    try:\n",
    "        s = input()\n",
    "        print(s)\n",
    "    except EOFError:\n",
    "        break"
   ]
  },
  {
   "cell_type": "code",
   "execution_count": 6,
   "metadata": {},
   "outputs": [
    {
     "name": "stdout",
     "output_type": "stream",
     "text": [
      "입력 오류\n"
     ]
    }
   ],
   "source": [
    "# 기존 코드 줄이기\n",
    "\n",
    "score = input()\n",
    "\n",
    "if score.isdecimal():\n",
    "    score = int(score)\n",
    "\n",
    "    if 0 <= score <= 100:\n",
    "        if score >= 90:     # score < 100 and score > 90\n",
    "            print('A')\n",
    "        elif score >= 80:   # score < 90 and score >= 80\n",
    "            print('B')\n",
    "        elif score >= 70:\n",
    "            print('C')\n",
    "        elif score >= 60:\n",
    "            print('D')\n",
    "        else:\n",
    "            print('F')\n",
    "\n",
    "else:\n",
    "    print('입력 오류')"
   ]
  },
  {
   "cell_type": "code",
   "execution_count": null,
   "metadata": {},
   "outputs": [],
   "source": []
  },
  {
   "cell_type": "code",
   "execution_count": 4,
   "metadata": {},
   "outputs": [
    {
     "name": "stdout",
     "output_type": "stream",
     "text": [
      "입력 오류\n"
     ]
    }
   ],
   "source": [
    "try:\n",
    "    score = int(input())\n",
    "    assert 0 <= int(score) <= 100\n",
    "    if score >= 90:     # score < 100 and score > 90\n",
    "        print('A')\n",
    "    elif score >= 80:   # score < 90 and score >= 80\n",
    "        print('B')\n",
    "    elif score >= 70:\n",
    "        print('C')\n",
    "    elif score >= 60:\n",
    "        print('D')\n",
    "    else:\n",
    "        print('F')\n",
    "except TypeError as e:\n",
    "    print('입력 오류')\n",
    "except Exception as e:\n",
    "    print('입력 오류')\n"
   ]
  },
  {
   "cell_type": "markdown",
   "metadata": {},
   "source": [
    "# 숙제 "
   ]
  },
  {
   "cell_type": "code",
   "execution_count": 30,
   "metadata": {},
   "outputs": [
    {
     "name": "stdout",
     "output_type": "stream",
     "text": [
      "3\n"
     ]
    }
   ],
   "source": [
    "# 10807\n",
    "N = int(input())\n",
    "S = input() \n",
    "V = int(input())\n",
    "n_list = []\n",
    "for s in S:\n",
    "    if s != \" \":\n",
    "        n_list.append(int(s))\n",
    "\n",
    "print(n_list.count(V))"
   ]
  },
  {
   "cell_type": "code",
   "execution_count": 57,
   "metadata": {},
   "outputs": [
    {
     "name": "stdout",
     "output_type": "stream",
     "text": [
      "3 4 1 2 5\n"
     ]
    }
   ],
   "source": [
    "#10811 \n",
    "n, m = map(int, input().split())\n",
    "\n",
    "baskets = list(range(1, n+1))\n",
    "\n",
    "for i in range(m):\n",
    "    i, j = map(int , input().split())\n",
    "    baskets[i-1:j] = baskets[i-1:j][::-1] #이렇게도 쓰나요 \n",
    "\n",
    "    \n",
    "\n",
    "print(\" \".join(map(str, baskets)))"
   ]
  },
  {
   "cell_type": "code",
   "execution_count": 53,
   "metadata": {},
   "outputs": [
    {
     "data": {
      "text/plain": [
       "75.0"
      ]
     },
     "execution_count": 53,
     "metadata": {},
     "output_type": "execute_result"
    }
   ],
   "source": [
    "sum(score_list)/len(score_list)"
   ]
  },
  {
   "cell_type": "code",
   "execution_count": 42,
   "metadata": {},
   "outputs": [
    {
     "data": {
      "text/plain": [
       "[50.0, 100, 75.0]"
      ]
     },
     "execution_count": 42,
     "metadata": {},
     "output_type": "execute_result"
    }
   ],
   "source": [
    "list"
   ]
  },
  {
   "cell_type": "code",
   "execution_count": 166,
   "metadata": {},
   "outputs": [
    {
     "data": {
      "text/plain": [
       "array([1, 1, 1, 1, 1, 1, 1, 1, 1, 1, 1, 1, 1, 1, 1, 1, 1, 1, 1, 1, 2, 2,\n",
       "       2, 2, 2, 2, 2, 2, 2, 2, 2, 2, 2, 2, 2, 2, 2, 2, 2, 2, 3, 3, 3, 3,\n",
       "       3, 3, 3, 3, 3, 3, 3, 3, 3, 3, 3, 3, 3, 3, 3, 3, 4, 4, 4, 4, 4, 4,\n",
       "       4, 4, 4, 4, 4, 4, 4, 4, 4, 4, 4, 4, 4, 4, 5, 5, 5, 5, 5, 5, 5, 5,\n",
       "       5, 5, 5, 5, 5, 5, 5, 5, 5, 5, 5, 5])"
      ]
     },
     "execution_count": 166,
     "metadata": {},
     "output_type": "execute_result"
    }
   ],
   "source": [
    "#학생이 한반에 100명이 있음. 시험을 봤는데 성적이 1~100등까지 나왔음\n",
    "#20등까지는 1을 주고 싶고 , 21~40는 2를 주고 , 81~100은 5를 받게 하는 프로그램 작성하기 \n",
    "#그거를 if , for 문 없이  \n",
    "\n",
    "import numpy as np \n",
    "ranks = np.arange(1,101)\n",
    "np.where(ranks <= 20 , 1, np.where(ranks <= 40, 2 , np.where(ranks <= 60, 3 , np.where(ranks <= 80 , 4 , np.where(ranks <= 100, 5, 5)))))"
   ]
  },
  {
   "cell_type": "code",
   "execution_count": 160,
   "metadata": {},
   "outputs": [
    {
     "ename": "ValueError",
     "evalue": "either both or neither of x and y should be given",
     "output_type": "error",
     "traceback": [
      "\u001b[0;31m---------------------------------------------------------------------------\u001b[0m",
      "\u001b[0;31mValueError\u001b[0m                                Traceback (most recent call last)",
      "Cell \u001b[0;32mIn[160], line 3\u001b[0m\n\u001b[1;32m      1\u001b[0m ranks \u001b[38;5;241m=\u001b[39m np\u001b[38;5;241m.\u001b[39marange(\u001b[38;5;241m1\u001b[39m,\u001b[38;5;241m101\u001b[39m)\n\u001b[0;32m----> 3\u001b[0m np\u001b[38;5;241m.\u001b[39mwhere(ranks \u001b[38;5;241m<\u001b[39m\u001b[38;5;241m=\u001b[39m \u001b[38;5;241m20\u001b[39m , \u001b[38;5;241m1\u001b[39m)\n",
      "\u001b[0;31mValueError\u001b[0m: either both or neither of x and y should be given"
     ]
    }
   ],
   "source": [
    "ranks = np.arange(1,101)\n",
    "\n",
    "np.where(ranks <= 20 , 1)"
   ]
  },
  {
   "cell_type": "code",
   "execution_count": 153,
   "metadata": {},
   "outputs": [],
   "source": [
    "import numpy as np\n",
    "ranks = np.arange(0,10)\n",
    "np.where(ranks <= 20)"
   ]
  },
  {
   "cell_type": "code",
   "execution_count": 25,
   "metadata": {},
   "outputs": [
    {
     "data": {
      "text/plain": [
       "array([0, 1, 2, 3, 4, 5, 6, 7, 8, 9], dtype=int32)"
      ]
     },
     "execution_count": 25,
     "metadata": {},
     "output_type": "execute_result"
    }
   ],
   "source": [
    "np.arange(0.1 , 10)\n",
    "np.arange(0.1, 10, dtype = np.int32)"
   ]
  },
  {
   "cell_type": "code",
   "execution_count": 26,
   "metadata": {},
   "outputs": [
    {
     "data": {
      "text/plain": [
       "array([2.  , 2.25, 2.5 , 2.75, 3.  ])"
      ]
     },
     "execution_count": 26,
     "metadata": {},
     "output_type": "execute_result"
    }
   ],
   "source": [
    "np.linspace(2,3, num=5)"
   ]
  },
  {
   "cell_type": "code",
   "execution_count": 30,
   "metadata": {},
   "outputs": [
    {
     "data": {
      "text/plain": [
       "array([[1., 0., 0., 0., 0.],\n",
       "       [0., 1., 0., 0., 0.],\n",
       "       [0., 0., 1., 0., 0.],\n",
       "       [0., 0., 0., 1., 0.],\n",
       "       [0., 0., 0., 0., 1.]])"
      ]
     },
     "execution_count": 30,
     "metadata": {},
     "output_type": "execute_result"
    }
   ],
   "source": [
    "np.linspace(2,3, num=5)\n",
    "np.linspace(2,3, num=5 , endpoint=False)\n",
    "\n",
    "np.eye(5)"
   ]
  },
  {
   "cell_type": "code",
   "execution_count": 32,
   "metadata": {},
   "outputs": [
    {
     "data": {
      "text/plain": [
       "array([0., 0., 0., 0., 0.])"
      ]
     },
     "execution_count": 32,
     "metadata": {},
     "output_type": "execute_result"
    }
   ],
   "source": [
    "np.zeros(5)"
   ]
  },
  {
   "cell_type": "code",
   "execution_count": 33,
   "metadata": {},
   "outputs": [
    {
     "data": {
      "text/plain": [
       "array([[0., 0.],\n",
       "       [0., 0.],\n",
       "       [0., 0.],\n",
       "       [0., 0.],\n",
       "       [0., 0.],\n",
       "       [0., 0.],\n",
       "       [0., 0.],\n",
       "       [0., 0.],\n",
       "       [0., 0.],\n",
       "       [0., 0.]])"
      ]
     },
     "execution_count": 33,
     "metadata": {},
     "output_type": "execute_result"
    }
   ],
   "source": [
    "np.zeros([10,2])"
   ]
  },
  {
   "cell_type": "code",
   "execution_count": 36,
   "metadata": {},
   "outputs": [
    {
     "data": {
      "text/plain": [
       "array([[1., 1.],\n",
       "       [1., 1.],\n",
       "       [1., 1.],\n",
       "       [1., 1.],\n",
       "       [1., 1.]])"
      ]
     },
     "execution_count": 36,
     "metadata": {},
     "output_type": "execute_result"
    }
   ],
   "source": [
    "np.ones(5)\n",
    "np.ones((5,2))"
   ]
  },
  {
   "cell_type": "code",
   "execution_count": 43,
   "metadata": {},
   "outputs": [],
   "source": [
    "x = np.tril([[1,2,3], [4,5,6], [7,8,9]\n",
    ", [10,11,12]])\n"
   ]
  },
  {
   "cell_type": "code",
   "execution_count": 45,
   "metadata": {},
   "outputs": [
    {
     "data": {
      "text/plain": [
       "array([[ 0.21746426, -0.84963757, -0.26254434, -0.00590851,  0.49220319],\n",
       "       [ 0.59263172, -1.09590223,  0.89973174, -0.27113673, -0.66385446],\n",
       "       [ 0.29895277,  1.00966713,  0.54864052, -0.22831002,  0.66892061],\n",
       "       [ 1.48028521, -3.09034405, -0.03612846,  0.46346022, -0.33058318],\n",
       "       [ 0.50942772, -0.70088255,  0.44712111,  1.34371088, -2.72672172]])"
      ]
     },
     "execution_count": 45,
     "metadata": {},
     "output_type": "execute_result"
    }
   ],
   "source": [
    "np.random.normal(size=(5, 5))"
   ]
  },
  {
   "cell_type": "code",
   "execution_count": 49,
   "metadata": {},
   "outputs": [
    {
     "data": {
      "text/plain": [
       "array([[ 1.10220198,  0.24581713, -0.13215035, -0.22587907,  0.51003579],\n",
       "       [ 0.        , -0.32029276, -0.93294509, -0.40852619,  0.28222956],\n",
       "       [ 0.        , -0.        ,  0.36818759,  0.39178041,  1.37311818],\n",
       "       [ 0.        , -0.        , -0.        , -1.17884412, -1.08152375],\n",
       "       [-0.        , -0.        , -0.        , -0.        , -0.84146537]])"
      ]
     },
     "execution_count": 49,
     "metadata": {},
     "output_type": "execute_result"
    }
   ],
   "source": [
    "np.random.normal(size=(5, 5))* np.triu(np.full((5, 5), 1))"
   ]
  },
  {
   "cell_type": "code",
   "execution_count": 52,
   "metadata": {},
   "outputs": [
    {
     "data": {
      "text/plain": [
       "array([[0.24820351, 0.79954837, 0.53015102],\n",
       "       [0.53071589, 0.60004003, 0.27795895]])"
      ]
     },
     "execution_count": 52,
     "metadata": {},
     "output_type": "execute_result"
    }
   ],
   "source": [
    "np.random.random(size=(2,3))"
   ]
  },
  {
   "cell_type": "code",
   "execution_count": 54,
   "metadata": {},
   "outputs": [
    {
     "data": {
      "text/plain": [
       "array([[0, 8],\n",
       "       [9, 1],\n",
       "       [2, 2],\n",
       "       [3, 6],\n",
       "       [4, 0]])"
      ]
     },
     "execution_count": 54,
     "metadata": {},
     "output_type": "execute_result"
    }
   ],
   "source": [
    "np.random.randint(0,10 , size=(5,2))"
   ]
  },
  {
   "cell_type": "code",
   "execution_count": 56,
   "metadata": {},
   "outputs": [
    {
     "data": {
      "text/plain": [
       "array([[-1.18061031, -0.51524358],\n",
       "       [-2.0108183 ,  0.29789554],\n",
       "       [-0.54466047, -2.1944578 ],\n",
       "       [-0.79346592, -1.97490039],\n",
       "       [-0.05287805,  0.33050731]])"
      ]
     },
     "execution_count": 56,
     "metadata": {},
     "output_type": "execute_result"
    }
   ],
   "source": [
    "np.random.normal(0,1, size=(5,2))"
   ]
  },
  {
   "cell_type": "code",
   "execution_count": null,
   "metadata": {},
   "outputs": [],
   "source": []
  },
  {
   "cell_type": "code",
   "execution_count": 58,
   "metadata": {},
   "outputs": [
    {
     "data": {
      "text/plain": [
       "array([33, 36, 41,  4, 25, 19])"
      ]
     },
     "execution_count": 58,
     "metadata": {},
     "output_type": "execute_result"
    }
   ],
   "source": [
    "np.random.randint(1,46,size=6)"
   ]
  },
  {
   "cell_type": "code",
   "execution_count": 66,
   "metadata": {},
   "outputs": [
    {
     "data": {
      "text/plain": [
       "array([[ 0,  1,  2,  3,  4,  5,  0,  1,  2,  3,  4,  5],\n",
       "       [ 6,  7,  8,  9, 10, 11,  6,  7,  8,  9, 10, 11]])"
      ]
     },
     "execution_count": 66,
     "metadata": {},
     "output_type": "execute_result"
    }
   ],
   "source": [
    "a = np.arange(12).reshape(2,6)\n",
    "b = np.arange(12).reshape(2,6)\n",
    "\n",
    "np.concatenate([a,b], axis = 0)\n",
    "np.concatenate([a,b], axis = 1)"
   ]
  },
  {
   "cell_type": "code",
   "execution_count": 70,
   "metadata": {},
   "outputs": [
    {
     "ename": "ValueError",
     "evalue": "all the input array dimensions except for the concatenation axis must match exactly, but along dimension 1, the array at index 0 has size 4 and the array at index 1 has size 2",
     "output_type": "error",
     "traceback": [
      "\u001b[0;31m---------------------------------------------------------------------------\u001b[0m",
      "\u001b[0;31mValueError\u001b[0m                                Traceback (most recent call last)",
      "Cell \u001b[0;32mIn[70], line 1\u001b[0m\n\u001b[0;32m----> 1\u001b[0m np\u001b[38;5;241m.\u001b[39mconcatenate([np\u001b[38;5;241m.\u001b[39marray([[\u001b[38;5;241m1\u001b[39m, \u001b[38;5;241m2\u001b[39m, \u001b[38;5;241m3\u001b[39m, \u001b[38;5;241m4\u001b[39m]]), np\u001b[38;5;241m.\u001b[39marray([[\u001b[38;5;241m4\u001b[39m, \u001b[38;5;241m5\u001b[39m]])], axis\u001b[38;5;241m=\u001b[39m\u001b[38;5;241m0\u001b[39m)\n",
      "\u001b[0;31mValueError\u001b[0m: all the input array dimensions except for the concatenation axis must match exactly, but along dimension 1, the array at index 0 has size 4 and the array at index 1 has size 2"
     ]
    }
   ],
   "source": [
    "np.concatenate([np.array([[1, 2, 3, 4]]), np.array([[4, 5]])], axis=0)"
   ]
  },
  {
   "cell_type": "code",
   "execution_count": 77,
   "metadata": {},
   "outputs": [
    {
     "data": {
      "text/plain": [
       "array([0., 1., 2., 3., 4., 5., 6., 7., 8.])"
      ]
     },
     "execution_count": 77,
     "metadata": {},
     "output_type": "execute_result"
    }
   ],
   "source": [
    "x = np.arange(9.0)\n",
    "x"
   ]
  },
  {
   "cell_type": "code",
   "execution_count": 82,
   "metadata": {},
   "outputs": [
    {
     "data": {
      "text/plain": [
       "[array([0, 1]), array([2, 3]), array([4, 5, 6]), array([7, 8])]"
      ]
     },
     "execution_count": 82,
     "metadata": {},
     "output_type": "execute_result"
    }
   ],
   "source": [
    "np.split(np.arange(9) , [2,4,7])"
   ]
  },
  {
   "cell_type": "code",
   "execution_count": 92,
   "metadata": {},
   "outputs": [
    {
     "data": {
      "text/plain": [
       "array([[0, 1, 2],\n",
       "       [3, 4, 5]])"
      ]
     },
     "execution_count": 92,
     "metadata": {},
     "output_type": "execute_result"
    }
   ],
   "source": [
    "np.arange(6)\n",
    "np.arange(6).reshape(2,1,1,1,3).squeeze()"
   ]
  },
  {
   "cell_type": "code",
   "execution_count": 96,
   "metadata": {},
   "outputs": [
    {
     "data": {
      "text/plain": [
       "array([[0],\n",
       "       [1],\n",
       "       [2],\n",
       "       [3],\n",
       "       [4],\n",
       "       [5]])"
      ]
     },
     "execution_count": 96,
     "metadata": {},
     "output_type": "execute_result"
    }
   ],
   "source": [
    "x = np.arange(6)\n",
    "np.expand_dims(x , axis=1)"
   ]
  },
  {
   "cell_type": "code",
   "execution_count": 99,
   "metadata": {},
   "outputs": [
    {
     "data": {
      "text/plain": [
       "array([0, 1, 2, 3, 4, 5, 6, 7, 8, 9])"
      ]
     },
     "execution_count": 99,
     "metadata": {},
     "output_type": "execute_result"
    }
   ],
   "source": [
    "x = np.arange(10)\n",
    "x"
   ]
  },
  {
   "cell_type": "code",
   "execution_count": 101,
   "metadata": {},
   "outputs": [
    {
     "data": {
      "text/plain": [
       "array([8, 9, 0, 1, 2, 3, 4, 5, 6, 7])"
      ]
     },
     "execution_count": 101,
     "metadata": {},
     "output_type": "execute_result"
    }
   ],
   "source": [
    "np.roll(x,2)"
   ]
  },
  {
   "cell_type": "code",
   "execution_count": 105,
   "metadata": {},
   "outputs": [
    {
     "data": {
      "text/plain": [
       "[(0, 3), (1, 4), (2, 0), (3, 1), (4, 2)]"
      ]
     },
     "execution_count": 105,
     "metadata": {},
     "output_type": "execute_result"
    }
   ],
   "source": [
    "z = np.arange(5)\n",
    "np.roll(z, 2)\n",
    "\n",
    "list(zip(z, np.roll(z,2)))"
   ]
  },
  {
   "cell_type": "code",
   "execution_count": 107,
   "metadata": {},
   "outputs": [
    {
     "data": {
      "text/plain": [
       "array([[[ 0,  1,  2,  3,  4,  5,  6,  7,  8,  9],\n",
       "        [10, 11, 12, 13, 14, 15, 16, 17, 18, 19]],\n",
       "\n",
       "       [[20, 21, 22, 23, 24, 25, 26, 27, 28, 29],\n",
       "        [30, 31, 32, 33, 34, 35, 36, 37, 38, 39]],\n",
       "\n",
       "       [[40, 41, 42, 43, 44, 45, 46, 47, 48, 49],\n",
       "        [50, 51, 52, 53, 54, 55, 56, 57, 58, 59]],\n",
       "\n",
       "       [[60, 61, 62, 63, 64, 65, 66, 67, 68, 69],\n",
       "        [70, 71, 72, 73, 74, 75, 76, 77, 78, 79]],\n",
       "\n",
       "       [[80, 81, 82, 83, 84, 85, 86, 87, 88, 89],\n",
       "        [90, 91, 92, 93, 94, 95, 96, 97, 98, 99]]])"
      ]
     },
     "execution_count": 107,
     "metadata": {},
     "output_type": "execute_result"
    }
   ],
   "source": [
    "x = np.arange(100).reshape(5,2,10)\n",
    "x"
   ]
  },
  {
   "cell_type": "code",
   "execution_count": 113,
   "metadata": {},
   "outputs": [
    {
     "name": "stdout",
     "output_type": "stream",
     "text": [
      "Original shape: (2, 2, 3)\n",
      "Swapped shape: (3, 2, 2)\n",
      "[[[ 1  7]\n",
      "  [ 4 10]]\n",
      "\n",
      " [[ 2  8]\n",
      "  [ 5 11]]\n",
      "\n",
      " [[ 3  9]\n",
      "  [ 6 12]]]\n"
     ]
    }
   ],
   "source": [
    "import numpy as np\n",
    "\n",
    "# 3차원 배열 생성\n",
    "a = np.array([[[1, 2, 3], [4, 5, 6]],\n",
    "              [[7, 8, 9], [10, 11, 12]]])\n",
    "\n",
    "# 첫 번째 축과 세 번째 축을 스왑\n",
    "b = np.swapaxes(a, 0, 2)\n",
    "\n",
    "print(\"Original shape:\", a.shape)\n",
    "print(\"Swapped shape:\", b.shape)\n",
    "print(b)"
   ]
  },
  {
   "cell_type": "code",
   "execution_count": 119,
   "metadata": {},
   "outputs": [
    {
     "data": {
      "text/plain": [
       "(5, 10, 2)"
      ]
     },
     "execution_count": 119,
     "metadata": {},
     "output_type": "execute_result"
    }
   ],
   "source": [
    "x = np.arange(100).reshape(5, 2, 10)\n",
    "x.transpose(0, 2, 1).shape   # 1번 축과 2번 축을 바꿈 # 2->0, 0->1, 1->2"
   ]
  },
  {
   "cell_type": "code",
   "execution_count": 125,
   "metadata": {},
   "outputs": [
    {
     "data": {
      "text/plain": [
       "array([[ 8,  7,  4],\n",
       "       [ 0,  1, 14],\n",
       "       [ 9, 12,  1],\n",
       "       [ 2,  2, 11],\n",
       "       [ 3, 13,  2]])"
      ]
     },
     "execution_count": 125,
     "metadata": {},
     "output_type": "execute_result"
    }
   ],
   "source": [
    "x = np.random.randint(0, 15, (5, 3))\n",
    "x"
   ]
  },
  {
   "cell_type": "code",
   "execution_count": 127,
   "metadata": {},
   "outputs": [
    {
     "data": {
      "text/plain": [
       "array([[ 4,  7,  8],\n",
       "       [ 0,  1, 14],\n",
       "       [ 1,  9, 12],\n",
       "       [ 2,  2, 11],\n",
       "       [ 2,  3, 13]])"
      ]
     },
     "execution_count": 127,
     "metadata": {},
     "output_type": "execute_result"
    }
   ],
   "source": [
    "x.sort(axis=1)\n",
    "x"
   ]
  },
  {
   "cell_type": "code",
   "execution_count": 139,
   "metadata": {},
   "outputs": [
    {
     "name": "stdout",
     "output_type": "stream",
     "text": [
      "[1 2 3 1 1]\n",
      "[1 1 1 2 3]\n",
      "[0 1 2 3 4]\n"
     ]
    }
   ],
   "source": [
    "x = np.random.randint(1, 6, size=5)\n",
    "print(x)\n",
    "x.sort(0)\n",
    "print(x)\n",
    "print(x.argsort())"
   ]
  },
  {
   "cell_type": "code",
   "execution_count": 144,
   "metadata": {},
   "outputs": [
    {
     "name": "stdout",
     "output_type": "stream",
     "text": [
      "[2 4 4 3 5 4 4 4 7 2]\n"
     ]
    },
    {
     "data": {
      "text/plain": [
       "array([2, 3, 4, 5, 7])"
      ]
     },
     "execution_count": 144,
     "metadata": {},
     "output_type": "execute_result"
    }
   ],
   "source": [
    "x = np.random.randint(10, size=10)\n",
    "print(x)\n",
    "np.unique(x)"
   ]
  },
  {
   "cell_type": "code",
   "execution_count": 145,
   "metadata": {},
   "outputs": [
    {
     "data": {
      "text/plain": [
       "array([  3.,   2.,   1.,   4.,   5., 100., 100.,   5.,   4.])"
      ]
     },
     "execution_count": 145,
     "metadata": {},
     "output_type": "execute_result"
    }
   ],
   "source": [
    "x = np.array([3, 2, 1, 4, 5, np.nan, np.nan, 5, 4])\n",
    "np.nan_to_num(x, nan=100)"
   ]
  },
  {
   "cell_type": "code",
   "execution_count": 151,
   "metadata": {},
   "outputs": [
    {
     "ename": "AttributeError",
     "evalue": "module 'numpy.lib' has no attribute 'stride_trics'",
     "output_type": "error",
     "traceback": [
      "\u001b[0;31m---------------------------------------------------------------------------\u001b[0m",
      "\u001b[0;31mAttributeError\u001b[0m                            Traceback (most recent call last)",
      "Cell \u001b[0;32mIn[151], line 3\u001b[0m\n\u001b[1;32m      1\u001b[0m \u001b[38;5;28;01mfrom\u001b[39;00m \u001b[38;5;21;01mtqdm\u001b[39;00m \u001b[38;5;28;01mimport\u001b[39;00m tqdm\n\u001b[1;32m      2\u001b[0m x \u001b[38;5;241m=\u001b[39m np\u001b[38;5;241m.\u001b[39marange(\u001b[38;5;241m10\u001b[39m)\n\u001b[0;32m----> 3\u001b[0m y \u001b[38;5;241m=\u001b[39m np\u001b[38;5;241m.\u001b[39mlib\u001b[38;5;241m.\u001b[39mstride_trics\u001b[38;5;241m.\u001b[39msliding_widow_view(x,\u001b[38;5;241m3\u001b[39m)\n",
      "File \u001b[0;32m/opt/anaconda3/lib/python3.11/site-packages/numpy/lib/__init__.py:90\u001b[0m, in \u001b[0;36m__getattr__\u001b[0;34m(attr)\u001b[0m\n\u001b[1;32m     88\u001b[0m     \u001b[38;5;28;01mreturn\u001b[39;00m math\n\u001b[1;32m     89\u001b[0m \u001b[38;5;28;01melse\u001b[39;00m:\n\u001b[0;32m---> 90\u001b[0m     \u001b[38;5;28;01mraise\u001b[39;00m \u001b[38;5;167;01mAttributeError\u001b[39;00m(\u001b[38;5;124m\"\u001b[39m\u001b[38;5;124mmodule \u001b[39m\u001b[38;5;132;01m{!r}\u001b[39;00m\u001b[38;5;124m has no attribute \u001b[39m\u001b[38;5;124m\"\u001b[39m\n\u001b[1;32m     91\u001b[0m                          \u001b[38;5;124m\"\u001b[39m\u001b[38;5;132;01m{!r}\u001b[39;00m\u001b[38;5;124m\"\u001b[39m\u001b[38;5;241m.\u001b[39mformat(\u001b[38;5;18m__name__\u001b[39m, attr))\n",
      "\u001b[0;31mAttributeError\u001b[0m: module 'numpy.lib' has no attribute 'stride_trics'"
     ]
    }
   ],
   "source": [
    "from tqdm import tqdm\n",
    "x = np.arange(10)\n",
    "y = np.lib.stride_trics.sliding_widow_view(x,3)"
   ]
  },
  {
   "cell_type": "code",
   "execution_count": 178,
   "metadata": {},
   "outputs": [
    {
     "name": "stdout",
     "output_type": "stream",
     "text": [
      "2\n",
      "5\n",
      "7\n",
      "17\n",
      "7\n"
     ]
    }
   ],
   "source": [
    "s = int(input())\n",
    "\n",
    "for i in range(s):\n",
    "    a,b = map(int , input().split())\n",
    "    print(a+b)"
   ]
  },
  {
   "cell_type": "code",
   "execution_count": 180,
   "metadata": {},
   "outputs": [
    {
     "name": "stdout",
     "output_type": "stream",
     "text": [
      "6\n"
     ]
    }
   ],
   "source": [
    "s = int(input())\n",
    "total_sum = 0 \n",
    "\n",
    "for i in range(1 , s+1):\n",
    "    total_sum += i\n",
    "print(total_sum)"
   ]
  },
  {
   "cell_type": "code",
   "execution_count": 193,
   "metadata": {},
   "outputs": [
    {
     "name": "stdout",
     "output_type": "stream",
     "text": [
      "[[1, 1, 1], [2, 2, 2], [0, 1, 0]]\n"
     ]
    }
   ],
   "source": [
    "row , colum = map(int , input().split())\n",
    "\n",
    "matrix_a = []\n",
    "for i in range(row):\n",
    "    a_list = list(map(int , input().split()))\n",
    "    matrix_a.append(a_list)\n",
    "\n",
    "print(matrix_a)\n",
    "matrix_b = []\n",
    "for i in range(row):\n",
    "    b_list = list(map(int , input().split()))\n",
    "    matrix_b.append(b_list)\n",
    "\n",
    "matrix_a = np.array(matrix_a)\n",
    "matrix_b = np.array(matrix_b)\n",
    "\n",
    "result_mx = matrix_a + matrix_b \n",
    "\n",
    "for r in result_mx:\n",
    "    print(' '.join(map(str, r)))"
   ]
  },
  {
   "cell_type": "code",
   "execution_count": null,
   "metadata": {},
   "outputs": [],
   "source": []
  },
  {
   "cell_type": "code",
   "execution_count": 208,
   "metadata": {},
   "outputs": [],
   "source": [
    "n,m = 3,3\n",
    "\n",
    "matrix_a = []\n",
    "for i in range(n):\n",
    "    a_list = list(map(int,input().split()))\n",
    "    matrix_a.append(a_list)"
   ]
  },
  {
   "cell_type": "code",
   "execution_count": 226,
   "metadata": {},
   "outputs": [
    {
     "name": "stdout",
     "output_type": "stream",
     "text": [
      "7\n",
      "3 1\n"
     ]
    }
   ],
   "source": [
    "matrix_a = []\n",
    "for i in range(3):\n",
    "    a_list = list(map(int,input().split()))\n",
    "    matrix_a.append(a_list)\n",
    "\n",
    "matrix_a = np.array(matrix_a)\n",
    "\n",
    "max_index_flat = np.argmax(matrix_a)\n",
    "row, col = np.unravel_index(max_index_flat, matrix_a.shape)\n",
    "\n",
    "print(matrix_a.max())\n",
    "print(row+1, col+1)"
   ]
  },
  {
   "cell_type": "code",
   "execution_count": 228,
   "metadata": {},
   "outputs": [
    {
     "name": "stdout",
     "output_type": "stream",
     "text": [
      "[[1 3 3]\n",
      " [4 4 5]\n",
      " [7 6 7]]\n"
     ]
    }
   ],
   "source": [
    "print(matrix_a)"
   ]
  },
  {
   "cell_type": "code",
   "execution_count": 231,
   "metadata": {},
   "outputs": [],
   "source": [
    "matrix_a = []\n",
    "for i in range(3):\n",
    "    a_list = list(map(str,input()))\n",
    "    matrix_a.append(a_list)"
   ]
  },
  {
   "cell_type": "code",
   "execution_count": 243,
   "metadata": {},
   "outputs": [],
   "source": [
    "matrix_a = []\n",
    "for i in range(5):\n",
    "    a_list = list(map(str,input()))\n",
    "    matrix_a.append(a_list)\n",
    "matrix_a = np.array(matrix_a)\n",
    "matrix_b = matrix_a.transpose()\n",
    "\n",
    "for rows in matrix_b:\n",
    "    print(''.join(map(str, rows)) , end=\"\")"
   ]
  },
  {
   "cell_type": "code",
   "execution_count": 250,
   "metadata": {},
   "outputs": [],
   "source": []
  },
  {
   "cell_type": "code",
   "execution_count": 263,
   "metadata": {},
   "outputs": [
    {
     "name": "stdout",
     "output_type": "stream",
     "text": [
      "qazwsxedcrfvtgb"
     ]
    }
   ],
   "source": [
    "matrix_b = matrix_a.transpose()\n",
    "\n",
    "for rows in matrix_b:\n",
    "    print(''.join(map(str, rows)) , end=\"\")\n"
   ]
  },
  {
   "cell_type": "code",
   "execution_count": 277,
   "metadata": {},
   "outputs": [
    {
     "data": {
      "text/plain": [
       "array([5, 2, 3, 3, 3, 4, 1, 1, 2, 5, 4, 4, 2, 1, 5, 5, 5, 1, 1, 1, 4, 3,\n",
       "       2, 4, 2, 1, 5, 1, 5, 1, 2, 3, 5, 5, 4, 1, 1, 3, 2, 3, 5, 2, 2, 1,\n",
       "       2, 1, 2, 3, 4, 4, 3, 4, 1, 4, 3, 4, 4, 3, 3, 1, 2, 3, 2, 3, 5, 1,\n",
       "       5, 2, 4, 5, 3, 4, 4, 2, 2, 2, 4, 3, 2, 1, 3, 5, 2, 3, 5, 4, 5, 5,\n",
       "       3, 4, 3, 2, 1, 5, 1, 4, 4, 5, 5])"
      ]
     },
     "execution_count": 277,
     "metadata": {},
     "output_type": "execute_result"
    }
   ],
   "source": [
    "#학생이 한반에 100명이 있음. 시험을 봤는데 성적이 1~100등까지 나왔음\n",
    "#19등까지는 1을 주고 싶고 , 20~39는 2를 주고 , 80~99은 5를 받게 하는 프로그램 작성하기 \n",
    "#그거를 if , for 문 없이  \n",
    "\n",
    "import numpy as np \n",
    "ranks = np.arange(1,100)\n",
    "np.where(ranks <= 20 , 1, np.where(ranks <= 40, 2 , np.where(ranks <= 60, 3 , np.where(ranks <= 80 , 4 , np.where(ranks <= 100, 5, 5)))))\n",
    "\n",
    "\n",
    "a = np.arange(1,100)\n",
    "np.random.shuffle(a)\n",
    "a = a//20+1\n",
    "a"
   ]
  },
  {
   "cell_type": "code",
   "execution_count": null,
   "metadata": {},
   "outputs": [],
   "source": [
    "#숫자만 무조건 받게 하기 , 문자열 들어간 거 받으면 다시 입력하도록 해서 무조건 점수 나오게 \n",
    "#숫자만 무조건 받게 하면 코드 뎁스를 줄일 수 있음 \n",
    "try:\n",
    "    score = int(input())\n",
    "    assert 0 <= int(score) <= 100\n",
    "    if score >= 90:     # score < 100 and score > 90\n",
    "        print('A')\n",
    "    elif score >= 80:   # score < 90 and score >= 80\n",
    "        print('B')\n",
    "    elif score >= 70:\n",
    "        print('C')\n",
    "    elif score >= 60:\n",
    "        print('D')\n",
    "    else:\n",
    "        print('F')\n",
    "except TypeError as e:\n",
    "    print('입력 오류')\n",
    "except Exception as e:\n",
    "    print('입력 오류')"
   ]
  },
  {
   "cell_type": "code",
   "execution_count": 278,
   "metadata": {},
   "outputs": [
    {
     "name": "stdout",
     "output_type": "stream",
     "text": [
      "[[1, 2, 3], [4, 5, 6], [7, 8, 9]]\n",
      "2 4 6\n",
      "8 10 12\n",
      "14 16 18\n"
     ]
    }
   ],
   "source": [
    "row , colum = map(int , input().split())\n",
    "\n",
    "matrix_a = []\n",
    "for i in range(row):\n",
    "    a_list = list(map(int , input().split()))\n",
    "    matrix_a.append(a_list)\n",
    "\n",
    "print(matrix_a)\n",
    "matrix_b = []\n",
    "for i in range(row):\n",
    "    b_list = list(map(int , input().split()))\n",
    "    matrix_b.append(b_list)\n",
    "\n",
    "matrix_a = np.array(matrix_a)\n",
    "matrix_b = np.array(matrix_b)\n",
    "\n",
    "result_mx = matrix_a + matrix_b \n",
    "\n",
    "for r in result_mx:\n",
    "    print(' '.join(map(str, r)))"
   ]
  },
  {
   "cell_type": "code",
   "execution_count": 280,
   "metadata": {},
   "outputs": [
    {
     "data": {
      "text/plain": [
       "array([[ 3, 23, 85, 34, 17, 74, 25, 52, 65],\n",
       "       [10,  7, 39, 42, 88, 52, 14, 72, 63],\n",
       "       [87, 42, 18, 78, 53, 45, 18, 84, 53],\n",
       "       [34, 28, 64, 85, 12, 16, 75, 36, 55],\n",
       "       [21, 77, 45, 35, 28, 75, 90, 76,  1],\n",
       "       [25, 87, 65, 15, 28, 11, 37, 28, 74],\n",
       "       [65, 27, 75, 41,  7, 89, 78, 64, 39],\n",
       "       [47, 47, 70, 45, 23, 65,  3, 41, 44],\n",
       "       [87, 13, 82, 38, 31, 12, 29, 29, 80]])"
      ]
     },
     "execution_count": 280,
     "metadata": {},
     "output_type": "execute_result"
    }
   ],
   "source": [
    "import numpy as np\n",
    "\n",
    "matrix_a = []\n",
    "for i in range(9):\n",
    "    a_list = list(map(int,input().split()))\n",
    "    matrix_a.append(a_list)\n",
    "\n",
    "matrix_a = np.array(matrix_a)\n",
    "matrix_a "
   ]
  },
  {
   "cell_type": "code",
   "execution_count": 293,
   "metadata": {},
   "outputs": [
    {
     "ename": "ValueError",
     "evalue": "can only convert an array of size 1 to a Python scalar",
     "output_type": "error",
     "traceback": [
      "\u001b[0;31m---------------------------------------------------------------------------\u001b[0m",
      "\u001b[0;31mValueError\u001b[0m                                Traceback (most recent call last)",
      "Cell \u001b[0;32mIn[293], line 8\u001b[0m\n\u001b[1;32m      4\u001b[0m row , col \u001b[38;5;241m=\u001b[39m np\u001b[38;5;241m.\u001b[39mwhere(matrix_a \u001b[38;5;241m==\u001b[39m matrix_a\u001b[38;5;241m.\u001b[39mmax())\n\u001b[1;32m      6\u001b[0m row\u001b[38;5;241m.\u001b[39mitem() \u001b[38;5;241m+\u001b[39m \u001b[38;5;241m1\u001b[39m , col\u001b[38;5;241m.\u001b[39mitem() \u001b[38;5;241m+\u001b[39m \u001b[38;5;241m1\u001b[39m\n\u001b[0;32m----> 8\u001b[0m row \u001b[38;5;241m=\u001b[39m np\u001b[38;5;241m.\u001b[39marray([\u001b[38;5;241m1\u001b[39m,\u001b[38;5;241m2\u001b[39m,\u001b[38;5;241m3\u001b[39m])\u001b[38;5;241m.\u001b[39mitem()\n",
      "\u001b[0;31mValueError\u001b[0m: can only convert an array of size 1 to a Python scalar"
     ]
    }
   ],
   "source": [
    "matrix_a.max()\n",
    "\n",
    "np.where(matrix_a == matrix_a.max())\n",
    "row , col = np.where(matrix_a == matrix_a.max())\n",
    "\n",
    "row.item() + 1 , col.item() + 1 #한 개 있는 배열에서밖에 못 들고 옴 "
   ]
  },
  {
   "cell_type": "code",
   "execution_count": 1,
   "metadata": {},
   "outputs": [
    {
     "name": "stdout",
     "output_type": "stream",
     "text": [
      "입력 오류\n"
     ]
    }
   ],
   "source": [
    "#숫자만 무조건 받게 하기 , 문자열 들어간 거 받으면 다시 입력하도록 해서 무조건 점수 나오게 \n",
    "#숫자만 무조건 받게 하면 코드 뎁스를 줄일 수 있음 \n",
    "try:\n",
    "    score = int(input())\n",
    "    assert 0 <= int(score) <= 100\n",
    "    if score >= 90:     # score < 100 and score > 90\n",
    "        print('A')\n",
    "    elif score >= 80:   # score < 90 and score >= 80\n",
    "        print('B')\n",
    "    elif score >= 70:\n",
    "        print('C')\n",
    "    elif score >= 60:\n",
    "        print('D')\n",
    "    else:\n",
    "        print('F')\n",
    "except TypeError as e:\n",
    "    print('입력 오류')\n",
    "except Exception as e:\n",
    "    print('입력 오류')"
   ]
  },
  {
   "cell_type": "code",
   "execution_count": 3,
   "metadata": {},
   "outputs": [
    {
     "name": "stdout",
     "output_type": "stream",
     "text": [
      "다시 입려하세요\n",
      "다시 입력하세요\n",
      "다시 입력하세요\n",
      "A\n"
     ]
    }
   ],
   "source": [
    "while True:\n",
    "    try:\n",
    "        score = int(input())\n",
    "        assert 0 <= score <= 100 \n",
    "        if score >= 90:\n",
    "            print('A')\n",
    "        elif score >= 80:\n",
    "            print('B')\n",
    "        elif score >= 70:\n",
    "            print('C')\n",
    "        elif score >= 60:\n",
    "            print('D')\n",
    "        break\n",
    "    except AssertionError as e:\n",
    "        print('다시 입력하세요')\n",
    "    except ValueError as e:\n",
    "        print('다시 입력하세요')\n"
   ]
  },
  {
   "cell_type": "code",
   "execution_count": null,
   "metadata": {},
   "outputs": [],
   "source": [
    "while True:\n",
    "    try:\n",
    "        score = int(input())\n",
    "        assert 0 <= score <= 100\n",
    "    except AssertionError as e:\n",
    "        print('다시 입력하세요')\n",
    "    except ValueError as e:\n",
    "        print('다시 입력하세요')\n",
    "    else:\n",
    "        break \n",
    "\n",
    "if score >= 90:\n",
    "    print('A')\n",
    "elif score >= 80:\n",
    "    print('B')\n",
    "elif score >= 70:\n",
    "    print('C')\n",
    "elif score >= 60:\n",
    "    print('D')"
   ]
  },
  {
   "cell_type": "code",
   "execution_count": null,
   "metadata": {},
   "outputs": [],
   "source": []
  },
  {
   "cell_type": "markdown",
   "metadata": {},
   "source": []
  },
  {
   "cell_type": "code",
   "execution_count": 4,
   "metadata": {},
   "outputs": [],
   "source": [
    "import pandas as pd"
   ]
  },
  {
   "cell_type": "code",
   "execution_count": 7,
   "metadata": {},
   "outputs": [],
   "source": [
    "health_data = pd.read_csv('국민건강보험공단_건강검진정보_20221231.CSV' , encoding='cp949')"
   ]
  },
  {
   "cell_type": "code",
   "execution_count": 17,
   "metadata": {},
   "outputs": [
    {
     "data": {
      "text/plain": [
       "기준년도            0.0000\n",
       "가입자일련번호         0.0000\n",
       "시도코드            0.0000\n",
       "성별              0.0000\n",
       "연령대코드(5세단위)     0.0000\n",
       "신장(5cm단위)       0.0000\n",
       "체중(5kg단위)       0.0000\n",
       "허리둘레            0.0392\n",
       "시력(좌)           0.0186\n",
       "시력(우)           0.0185\n",
       "청력(좌)           0.0115\n",
       "청력(우)           0.0116\n",
       "수축기혈압           0.5556\n",
       "이완기혈압           0.5556\n",
       "식전혈당(공복혈당)      0.5611\n",
       "총콜레스테롤         65.4382\n",
       "트리글리세라이드       65.4386\n",
       "HDL콜레스테롤       65.4386\n",
       "LDL콜레스테롤       66.0926\n",
       "혈색소             0.5616\n",
       "요단백             1.1054\n",
       "혈청크레아티닌         0.5615\n",
       "혈청지오티(AST)      0.5613\n",
       "혈청지피티(ALT)      0.5613\n",
       "감마지티피           0.5611\n",
       "흡연상태            0.0096\n",
       "음주여부            0.0073\n",
       "구강검진수검여부        0.0000\n",
       "치아우식증유무        65.5671\n",
       "치석             65.5670\n",
       "dtype: float64"
      ]
     },
     "execution_count": 17,
     "metadata": {},
     "output_type": "execute_result"
    }
   ],
   "source": [
    "health_data.isna().sum() / len(health_data) * 100 \n",
    "\n",
    "#내림차순 기준으로 퍼센트를 정렬해오셈"
   ]
  },
  {
   "cell_type": "code",
   "execution_count": 15,
   "metadata": {},
   "outputs": [
    {
     "data": {
      "text/plain": [
       "(1000000, 30)"
      ]
     },
     "execution_count": 15,
     "metadata": {},
     "output_type": "execute_result"
    }
   ],
   "source": [
    "health_data.shape"
   ]
  },
  {
   "cell_type": "code",
   "execution_count": 16,
   "metadata": {},
   "outputs": [
    {
     "data": {
      "text/plain": [
       "1000000"
      ]
     },
     "execution_count": 16,
     "metadata": {},
     "output_type": "execute_result"
    }
   ],
   "source": [
    "len(health_data)"
   ]
  },
  {
   "cell_type": "code",
   "execution_count": null,
   "metadata": {},
   "outputs": [],
   "source": [
    "로그로 변형된 & 대륙별로 색깔을 변형해서 가져올 것"
   ]
  }
 ],
 "metadata": {
  "kernelspec": {
   "display_name": "base",
   "language": "python",
   "name": "python3"
  },
  "language_info": {
   "codemirror_mode": {
    "name": "ipython",
    "version": 3
   },
   "file_extension": ".py",
   "mimetype": "text/x-python",
   "name": "python",
   "nbconvert_exporter": "python",
   "pygments_lexer": "ipython3",
   "version": "3.11.7"
  }
 },
 "nbformat": 4,
 "nbformat_minor": 2
}
