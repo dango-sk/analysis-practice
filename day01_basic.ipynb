{
  "cells": [
    {
      "cell_type": "markdown",
      "metadata": {},
      "source": [
        "# 1.Introduction\n",
        "\n",
        "수업에 사용될 코드는 아래 링크에 올라갈 예정  \n",
        "[github repository](https://github.com/itrepos/2024-06-04_Python_Statistics_Sookyung)  \n",
        "수업이 종료됐을 때 작성된 코드는 사용하는 파일 이름에 _done이라는 이름으로 업로드  \n",
        "\n"
      ]
    },
    {
      "cell_type": "markdown",
      "metadata": {
        "id": "rj6TTSOQBfsU"
      },
      "source": [
        "# 2.Python"
      ]
    },
    {
      "cell_type": "markdown",
      "metadata": {
        "id": "MBd8HgtEBml4"
      },
      "source": [
        "## 2.1 파이썬 소개\n",
        "\n",
        "1) 귀도 반 로섬이 1991년에 개발한 언어  \n",
        "2) 2010년대 중반들어 인기  \n",
        "3) 인터프리터 언어(<->컴파일 언어): 속도는 느리나 컴파일 불필요  \n",
        "* 컴파일: 사람이 작성한 프로그램 언어를 기계어로 변환  \n",
        "컴파일 언어: 속도\n",
        "인터프리터언어: 생산성  \n",
        "\n",
        "4) 쉽다?  \n",
        "5) 불러다 쓸 수 있는 모듈이 많고, 쓰기가 쉽다."
      ]
    },
    {
      "cell_type": "code",
      "execution_count": null,
      "metadata": {},
      "outputs": [],
      "source": []
    },
    {
      "cell_type": "markdown",
      "metadata": {
        "id": "pekREeEaDa3W"
      },
      "source": [
        "## 2.2 변수와 상수\n",
        "\n",
        "변수: 메모리 공간 상에 변경 가능한 값을 담을 수 있는 공간\n",
        "\n",
        "변수이름: 공간 상에 있는 주소를 맵핑한 이름\n",
        "\n",
        "1. 띄어쓰기 불가능\n",
        "2. 특수문자 불가능 (_(underbar)는 예외)\n",
        "3. 숫자로 시작 불가능\n",
        "4. 키워드 사용 불가능"
      ]
    },
    {
      "cell_type": "code",
      "execution_count": null,
      "metadata": {},
      "outputs": [],
      "source": []
    },
    {
      "cell_type": "markdown",
      "metadata": {
        "id": "zwiLasApFjSY"
      },
      "source": [
        "## 2.3 주석\n",
        "1. 사람만 알아볼 수 있도록 작성하는 텍스트\n",
        "2. 용도\n",
        "  \n",
        "  1) 프로그램 개요를 소스코드에 적을 때\n",
        "\n",
        "  2) 로직이나 변수 설명이 필요할 때\n",
        "\n",
        "  3) 로직이 복잡하거나 길어서 코딩 전에 먼저 글로 써놓고 나중에 코딩 (pseudo 코딩)\n",
        "\n",
        "  4) 이미 작성한 부분을 실행 시 빼고 싶을 때\n",
        "\n",
        "3. 사용법\n",
        "  - 한 줄 주석: #\n",
        "  - 범위 주석 : ''' 코드 ''', \"\"\" 코드 \"\"\""
      ]
    },
    {
      "cell_type": "code",
      "execution_count": null,
      "metadata": {},
      "outputs": [],
      "source": []
    },
    {
      "cell_type": "code",
      "execution_count": null,
      "metadata": {},
      "outputs": [],
      "source": []
    },
    {
      "cell_type": "markdown",
      "metadata": {
        "id": "eJmp3hgMM1pG"
      },
      "source": [
        "## 2.4 기본자료형\n",
        "\n",
        "|**자료형** | **type** | **크기** |  **값**|\n",
        "|-----|---|---|---|\n",
        "|정수형  |int  | ??? | 0, 10, -71, ....|\n",
        "|실수형  |float |??? | 0.0, 10.247, -21.58, ...|\n",
        "|논리형 | bool | 1byte |  True, False|\n",
        "|문자열  |str |  ???  |  'a', 'hello', \"A\", \"hello\", ... |"
      ]
    },
    {
      "cell_type": "markdown",
      "metadata": {
        "id": "_nRkdmhrdXjf"
      },
      "source": [
        "### 2.4.1 정수형(int)\n",
        "\n",
        "int는 정수 자료형  \n",
        "기본적으로 원하는 값의 크기를 제한 없이 사용 가능  \n",
        "(다른 언어와 다르게 arbitrary-precision을 이용하여 데이터 표현 형식 범위가 더 넓음)  \n",
        "\n",
        "사용법\n",
        "  * int(1.9)\n",
        "  * int(True)\n",
        "  * int(False)\n",
        "  * int('100')"
      ]
    },
    {
      "cell_type": "code",
      "execution_count": null,
      "metadata": {},
      "outputs": [],
      "source": []
    },
    {
      "cell_type": "code",
      "execution_count": null,
      "metadata": {},
      "outputs": [],
      "source": []
    },
    {
      "cell_type": "markdown",
      "metadata": {
        "id": "KJ1fHUzae3Uu"
      },
      "source": [
        "### 2.4.2 실수형(float)\n",
        "\n",
        "float은 실수 자료형  \n",
        "기본적으로 소숫점이 있는 숫자를 실수(floating point number)라고 함  \n",
        "지수형식이나 복소수 형식으로 표현 가능  \n",
        "\n",
        "|구분|특징|예시|의미|\n",
        "|----- |-----                         |-----      |-----|\n",
        "|실수  |소숫점이 있는 숫자            |3.14       |3.14\n",
        "|지수  |e를 포함하는 숫자             |1.5e2      |1.5*10^2|\n",
        "|복소수|실수와 허수(j)를 포함하는 숫자|1.5 + 2.54j|허수 i 대신 j나 J를 사용|\n",
        "\n",
        "사용법\n",
        "  * float(1)\n",
        "  * float(True)\n",
        "  * float(False)\n",
        "  * float('3.14')\n",
        "  * float('100')\n",
        "  * complex(10, 20)"
      ]
    },
    {
      "cell_type": "code",
      "execution_count": null,
      "metadata": {},
      "outputs": [],
      "source": []
    },
    {
      "cell_type": "markdown",
      "metadata": {
        "id": "-G3kLajLf7HO"
      },
      "source": [
        "### 2.4.3 논리형(bool)\n",
        "\n",
        "bool은 논리 자료형.  \n",
        "참과 거짓을 의미하는 True와 False 값을 가질 수 있음.\n",
        "\n",
        "|구분|의미|예시|특징|\n",
        "|----- |-----|----- |-----|\n",
        "|True  |참   |True  |False 외 모든 값|\n",
        "|False |거짓 |False |0, '', [], {}, (), 등|\n",
        "\n",
        "사용법\n",
        "* bool(0)\n",
        "* bool('')\n",
        "* bool([])\n"
      ]
    },
    {
      "cell_type": "code",
      "execution_count": null,
      "metadata": {},
      "outputs": [],
      "source": []
    },
    {
      "cell_type": "markdown",
      "metadata": {
        "id": "jR0xqhAEhLfX"
      },
      "source": [
        "### 2.4.4 문자열(str)\n",
        "\n"
      ]
    },
    {
      "cell_type": "markdown",
      "metadata": {
        "id": "huVotSNpisvF"
      },
      "source": [
        "#### 2.4.4.1 문자열이란?\n",
        "\n",
        "str은 문자열 자료형  \n",
        "문자열은 기본적으로 따옴표로 묶어서 데이터 표현.  \n",
        "'100'처럼 숫자로 구성되어 있어도 문자열.  \n",
        "문자열은 한 글자이거나 여러 글자여도 작은따옴표(')와 큰 따옴표(\")를  \n",
        "모두 사용할 수 있으며, 각 따옴표를 3개씩 사용하는 삼중 따옴표(''' ''', \"\"\" \"\"\")도 사용 가능.  \n",
        "  \n",
        "\n",
        "\n",
        "|분류  |사용 기호|의미|예시|\n",
        "|----- |-----|----- |-----|\n",
        "|single line   |' '    |한 줄 문자열   |'python'|\n",
        "|              |\" \"    |               |\"python\"|\n",
        "|multiple line |''' '''|여러 줄 문자열 |''' python <br> is <br> interesting '''|\n",
        "|              |\"\"\" \"\"\"|               |\"\"\" python <br> is <br> interesting \"\"\"|"
      ]
    },
    {
      "cell_type": "markdown",
      "metadata": {
        "id": "OaqW-KTWjKue"
      },
      "source": [
        "#### 2.4.4.2 문자열 사용법\n",
        "\n",
        "* str(100)\n",
        "* str(True)\n",
        "* str(False)\n",
        "* str(3.14)"
      ]
    },
    {
      "cell_type": "code",
      "execution_count": null,
      "metadata": {},
      "outputs": [],
      "source": []
    },
    {
      "cell_type": "code",
      "execution_count": null,
      "metadata": {},
      "outputs": [],
      "source": []
    },
    {
      "cell_type": "code",
      "execution_count": null,
      "metadata": {},
      "outputs": [],
      "source": []
    },
    {
      "cell_type": "markdown",
      "metadata": {
        "id": "UsFLbM7bjXuU"
      },
      "source": [
        "#### 2.4.4.3 문자열 인덱싱\n",
        "\n",
        "문자열의 인덱스는 문자열을 구성하는 모든 문자에 부여한 고유 번호.  \n",
        "인덱스의 시작 번호는 0.  \n",
        "'hello'를 저장한 문자열 s는 다음과 같은 인덱스를 가짐\n",
        "\n",
        "|s|h|e|l|l|o|\n",
        "|-|-|-|-|-|-|\n",
        "|index|0|1|2|3|4|\n",
        "\n",
        "<br>\n",
        "\n",
        "|s|h|e|l|l|o|\n",
        "|-|-|-|-|-|-|\n",
        "|index|s[0]|s[1]|s[2]|s[3]|s[4]|\n",
        "\n",
        "<br>\n",
        "\n",
        "파이썬 인덱스는 -인덱스가 존재.  \n",
        "마이너스 인덱스는 문자열 뒤에서부터 부여하는 번호.  \n",
        "뒤에서부터 인덱스를 부여하기 때문에 마지막 문자의 인덱스는 -1.  \n",
        "\n",
        "|s|h|e|l|l|o|\n",
        "|-|-|-|-|-|-|\n",
        "|index|s[-5]|s[-4]|s[-3]|s[-2]|s[-1]|"
      ]
    },
    {
      "cell_type": "code",
      "execution_count": null,
      "metadata": {},
      "outputs": [],
      "source": []
    },
    {
      "cell_type": "markdown",
      "metadata": {
        "id": "oOJpDgq0kre3"
      },
      "source": [
        "#### 2.4.4.4 문자열 슬라이싱\n",
        "\n",
        "문자열 슬라이싱은 문자열 인덱스를 활용하여  \n",
        "한 문자 이상으로 구성된 단어나 문장을 추출할 때 사용.  \n",
        "추출하고자 하는 단어나 문장의 시작 인덱스와 종료 인덱스를 통해  \n",
        "그 사이 모든 문자들을 추출하는 방법을 사용.\n",
        "\n",
        "문자열 슬라이싱의 구조는 아래와 같음.  \n",
        "s[start:stop:step]  \n",
        "start: 시작 인덱스. 생략하면 처음부터 추출.  \n",
        "stop : 종료 인덱스. 생략하면 끝까지 추출.  \n",
        "step : 인덱스의 증감. 생략하면 1씩 변화.  "
      ]
    },
    {
      "cell_type": "code",
      "execution_count": null,
      "metadata": {},
      "outputs": [],
      "source": []
    },
    {
      "cell_type": "markdown",
      "metadata": {
        "id": "D0w6CqtaU0WS"
      },
      "source": [
        "#### 2.4.4.5 문자열 메소드"
      ]
    },
    {
      "cell_type": "markdown",
      "metadata": {
        "id": "4A9e5H2vVB7D"
      },
      "source": [
        "##### format()\n",
        "\n",
        "출력함수 참조"
      ]
    },
    {
      "cell_type": "markdown",
      "metadata": {
        "id": "Kd_a64nZVCCk"
      },
      "source": [
        "##### count()\n",
        "문자열 내부에 포함된 특정 문자열의 개수를 반환하는 메소드  \n",
        "\n",
        "인덱스를 지정해 검색 범위를 지정할 수도 있음"
      ]
    },
    {
      "cell_type": "code",
      "execution_count": null,
      "metadata": {},
      "outputs": [],
      "source": []
    },
    {
      "cell_type": "code",
      "execution_count": null,
      "metadata": {},
      "outputs": [],
      "source": []
    },
    {
      "cell_type": "code",
      "execution_count": null,
      "metadata": {},
      "outputs": [],
      "source": []
    },
    {
      "cell_type": "markdown",
      "metadata": {
        "id": "mgjKu7-CVCIM"
      },
      "source": [
        "##### find()\n",
        "문자열 내부에 포함된 특정 문자열을 찾고자 할 때 사용  \n",
        "찾고자하는 문자열이 있으면 그 문자열이 청므으로 나온 위치(인덱스)를 반환  \n",
        "만일 찾고자 하는 문자열이 없는 경우 -1을 반환\n",
        "\n",
        "인덱스를 이용해 검색 범위 지정 가능  \n",
        "지정하지 않으면 처음부터 찾고,  \n",
        "시작할 인덱스를 지정하는 경우에도 지정된 인덱스부터 찾음\n",
        "\n",
        "rfind()메소드를 통해 오른쪽에서부터 값을 탐색 가능"
      ]
    },
    {
      "cell_type": "code",
      "execution_count": null,
      "metadata": {},
      "outputs": [],
      "source": []
    },
    {
      "cell_type": "markdown",
      "metadata": {
        "id": "u08-dvNOVCMO"
      },
      "source": [
        "##### index()\n",
        "find() 메소드와 같은 역할을 수행하지만  \n",
        "찾는 문자열이 없을 때 find와는 다르게 오류 발생"
      ]
    },
    {
      "cell_type": "code",
      "execution_count": null,
      "metadata": {},
      "outputs": [],
      "source": []
    },
    {
      "cell_type": "markdown",
      "metadata": {
        "id": "IR4tiL56VCQW"
      },
      "source": [
        "##### 대소문자 변환\n",
        "\n",
        "|메소드|의미|\n",
        "|------|----|\n",
        "|upper()|모두 대문자로 변환한 결과를 반환|\n",
        "|lower()|모두 소문자로 변환한 결과를 반환|\n",
        "|capitalize()|첫 글자는 대문자로 변환하고 나머지 문자는 소문자로 변환한 결과 반환|"
      ]
    },
    {
      "cell_type": "code",
      "execution_count": null,
      "metadata": {},
      "outputs": [],
      "source": []
    },
    {
      "cell_type": "markdown",
      "metadata": {
        "id": "lAuagXaBVCUi"
      },
      "source": [
        "##### join()\n",
        "인수로 전달한 반복가능객체(문자열, 리스트 등)의 각 요소 사이에  \n",
        "문자열을 포함시켜 새로운 문자열을 만들고 그 결과를 반환"
      ]
    },
    {
      "cell_type": "code",
      "execution_count": null,
      "metadata": {},
      "outputs": [],
      "source": []
    },
    {
      "cell_type": "code",
      "execution_count": null,
      "metadata": {},
      "outputs": [],
      "source": []
    },
    {
      "cell_type": "markdown",
      "metadata": {
        "id": "9IwdRR_kVCWq"
      },
      "source": [
        "##### split()\n",
        "\n",
        "하나의 문자열을 여러 개의 문자열러 분리 후 리스트로 반환하는 메소드  \n",
        "기본적으로는 공백문자로 분리하지만 특정 문자열을 기준으로 분리 가능"
      ]
    },
    {
      "cell_type": "code",
      "execution_count": null,
      "metadata": {},
      "outputs": [],
      "source": []
    },
    {
      "cell_type": "markdown",
      "metadata": {
        "id": "ralwb3AWVERL"
      },
      "source": [
        "##### replace()\n",
        "\n",
        "문자열 일부를 다른 문자열로 바꾼 결과를 반환"
      ]
    },
    {
      "cell_type": "code",
      "execution_count": null,
      "metadata": {},
      "outputs": [],
      "source": []
    },
    {
      "cell_type": "code",
      "execution_count": null,
      "metadata": {},
      "outputs": [],
      "source": []
    },
    {
      "cell_type": "markdown",
      "metadata": {
        "id": "T58BMBCCVEyh"
      },
      "source": [
        "##### 불필요한 문자열 제거 메소드\n",
        "\n",
        "|메소드|의미|\n",
        "|--------|--------|\n",
        "|lstrip  |왼쪽 끝에 있는 공백을 제거 후 반환|\n",
        "|rstrip  |오른쪽 끝에 있는 공백을 제거 후 반환|\n",
        "|strip   |양쪽 끝에 있는 공백을 제거 후 반환|"
      ]
    },
    {
      "cell_type": "code",
      "execution_count": null,
      "metadata": {},
      "outputs": [],
      "source": []
    },
    {
      "cell_type": "markdown",
      "metadata": {
        "id": "c2KkTI0hWK9J"
      },
      "source": [
        "##### isdecimal()\n",
        "\n",
        "문자열이 숫자로만 구성되어 있는지 판단"
      ]
    },
    {
      "cell_type": "code",
      "execution_count": null,
      "metadata": {},
      "outputs": [],
      "source": []
    },
    {
      "cell_type": "code",
      "execution_count": null,
      "metadata": {},
      "outputs": [],
      "source": []
    },
    {
      "cell_type": "markdown",
      "metadata": {
        "id": "tNSXfsSAlh_v"
      },
      "source": [
        "## 2.5 컬렉션\n",
        "\n",
        "컬렉션은 '모음' 이란 뜻으로 파이썬에서 컬렉션은 다음과 같은 의미.  \n",
        "***여러 값을 하나의 이름으로 묶어서 관리하는 자료형***  \n",
        "컬렉션에는 리스트, 튜플, 세트, 딕셔너리 존재\n",
        "<br>\n",
        "\n",
        "|컬렉션  |생성 함수|특징                          |예시       |\n",
        "|--------|--------|--------|--------|\n",
        "|리스트  |list()   |추가, 수정, 삭제가 언제나 가능|[1, 2, 3]  |\n",
        "|튜플    |tuple()  |생성되고 나면 변경 불가능     |(1, 2, 3)  |\n",
        "|세트    |set()    |중복된 값의 저장 불가능       |{1, 2, 3}  |\n",
        "|딕셔너리|dict()   |키-값으로 관리                |{'age': 25}|\n",
        "\n"
      ]
    },
    {
      "cell_type": "markdown",
      "metadata": {
        "id": "DGwwq5mHmkrz"
      },
      "source": [
        "#### 2.5.1 리스트"
      ]
    },
    {
      "cell_type": "markdown",
      "metadata": {
        "id": "9DA3MeTrm6Uh"
      },
      "source": [
        "##### 2.5.1.1 리스트 생성\n",
        "\n",
        "리스트는 여러 값을 저장할 때 가장 많이 사용하는 자료형.  \n",
        "저장하고자 하는 값의 자료형이 서로 다르더라도 하나의 리스트에 저장 가능.  \n",
        "\n",
        "사용법  \n",
        "[값1, 값2]  \n",
        "list(반복가능객체)  \n",
        "<br>\n",
        "\n",
        "하나의 배열에 하나의 자료형만 저장할 수 있는 C나 자바에 비하면 매우 큰 장점.\n"
      ]
    },
    {
      "cell_type": "markdown",
      "metadata": {
        "id": "TWwFEtmWnN6b"
      },
      "source": [
        "##### 2.5.1.2 리스트 인덱싱과 슬라이싱\n",
        "\n",
        "리스트는 문자열과 동일한 방식의 인덱싱 지원.  \n",
        "\n",
        "li = [100, 3.14, 'hello']\n",
        "\n",
        "|li|100|3.14|'hello'|\n",
        "|-|-|-|-|\n",
        "|index|0|1|2|\n",
        "<br>\n",
        "\n",
        "|100|3.14|'hello'|\n",
        "|-|-|-|\n",
        "|li[0]|li[1]|li[2]|\n",
        "\n",
        "\n",
        "슬라이싱  \n",
        "\n",
        "li = [10, 20, 30, 40, 50]  \n",
        "li[0:3]\n"
      ]
    },
    {
      "cell_type": "code",
      "execution_count": null,
      "metadata": {},
      "outputs": [],
      "source": []
    },
    {
      "cell_type": "markdown",
      "metadata": {
        "id": "ZDABm0Y9Sq3S"
      },
      "source": [
        "##### 2.5.1.3 리스트 메소드"
      ]
    },
    {
      "cell_type": "markdown",
      "metadata": {
        "id": "Xr8hWV1XTKMR"
      },
      "source": [
        "###### append()\n",
        "\n",
        "리스트 끝에 인수로 전달된 데이터를 추가"
      ]
    },
    {
      "cell_type": "code",
      "execution_count": null,
      "metadata": {},
      "outputs": [],
      "source": []
    },
    {
      "cell_type": "markdown",
      "metadata": {
        "id": "PsWD7Q2FTKUN"
      },
      "source": [
        "###### extend()\n",
        "\n",
        "리스트에 다른 리스트나 튜플과 같은 반복가능객체를 추가하여 기존 리스트를 확장"
      ]
    },
    {
      "cell_type": "code",
      "execution_count": null,
      "metadata": {},
      "outputs": [],
      "source": []
    },
    {
      "cell_type": "markdown",
      "metadata": {
        "id": "dpVwbxMQTKZU"
      },
      "source": [
        "###### insert()\n",
        "\n",
        "리스트의 특정 인덱스에 데이터를 추가하는 메소드  \n"
      ]
    },
    {
      "cell_type": "code",
      "execution_count": null,
      "metadata": {},
      "outputs": [],
      "source": []
    },
    {
      "cell_type": "markdown",
      "metadata": {
        "id": "jcA_wEdCTKf8"
      },
      "source": [
        "###### clear()\n",
        "\n",
        "리스트에 저장된 모든 요소를 삭제하는 메소드"
      ]
    },
    {
      "cell_type": "code",
      "execution_count": null,
      "metadata": {},
      "outputs": [],
      "source": []
    },
    {
      "cell_type": "markdown",
      "metadata": {
        "id": "GyD7vsMbTKkH"
      },
      "source": [
        "###### pop()\n",
        "\n",
        "리스트의 마지막 요소가 반환되면서 실제로 리스트에서 제거  \n",
        "pop 메소드에서 삭제하고자 하는 요소의 인덱스를 인수로 전달하면  \n",
        "지정된 인덱스의 요소가 반환되면서 실제로 리스트에서 제거"
      ]
    },
    {
      "cell_type": "code",
      "execution_count": null,
      "metadata": {},
      "outputs": [],
      "source": []
    },
    {
      "cell_type": "markdown",
      "metadata": {
        "id": "hKjmCSNuTKnN"
      },
      "source": [
        "###### remove()\n",
        "\n",
        "인수로 전달된 값과 동일한 요소를 찾아서 제거  \n",
        "동일한 요소가 여러 개인 경우에는 그 중에서 첫 번째 요소가 제거"
      ]
    },
    {
      "cell_type": "code",
      "execution_count": null,
      "metadata": {},
      "outputs": [],
      "source": []
    },
    {
      "cell_type": "markdown",
      "metadata": {
        "id": "SNCspkIkUbn6"
      },
      "source": [
        "###### count()\n",
        "\n",
        "리스트 내에 매칭되는 원소의 개수를 반환"
      ]
    },
    {
      "cell_type": "code",
      "execution_count": null,
      "metadata": {},
      "outputs": [],
      "source": []
    },
    {
      "cell_type": "markdown",
      "metadata": {
        "id": "rQvPC0LjUb2U"
      },
      "source": [
        "###### sort()\n",
        "\n",
        "주어진 리스트를 정렬"
      ]
    },
    {
      "cell_type": "code",
      "execution_count": null,
      "metadata": {},
      "outputs": [],
      "source": []
    },
    {
      "cell_type": "markdown",
      "metadata": {
        "id": "0F8crrd6Ub_i"
      },
      "source": [
        "###### reverse()\n",
        "\n",
        "주어진 리스트를 역순으로 정렬"
      ]
    },
    {
      "cell_type": "code",
      "execution_count": null,
      "metadata": {},
      "outputs": [],
      "source": []
    },
    {
      "cell_type": "markdown",
      "metadata": {
        "id": "S48DGCM5hWNI"
      },
      "source": [
        "#### 2.5.2 튜플"
      ]
    },
    {
      "cell_type": "markdown",
      "metadata": {
        "id": "gTtmVwFHmym9"
      },
      "source": [
        "##### 2.5.2.1 튜플 생성\n",
        "\n",
        "튜플은 저장된 값을 변경할 수 없는 리스트.  \n",
        "리스트와 마찬가지로 튜플도 각 요소를 구분하기 위한  \n",
        "인덱스가 부여되고 슬라이싱도 지원.\n",
        "다만 이미 저장된 값 이외에는 추가, 수정 삭제 불가능.  \n",
        "<br>\n",
        "\n",
        "사용법\n",
        "* (값1, 값2, ...)\n",
        "* tuple(반복가능객체)\n",
        "<br>\n",
        "\n",
        "또한, 소괄호나 tuple 함수를 사용하지 않고 ,로 분리하여 전달하면 자동으로 튜플 생성.  \n",
        "* 값1, 값2\n",
        "<br>\n",
        "\n",
        "다만 주의점은 값을 1개만 보관하는 튜플을 생성할 경우 다음과 같이 ,를 반드시 함께 작성  \n",
        "* (값, )\n"
      ]
    },
    {
      "cell_type": "markdown",
      "metadata": {
        "id": "pak6obA6haoE"
      },
      "source": [
        "##### 2.5.2.2 튜플 인덱싱과 슬라이싱\n",
        "\n",
        "튜플은 리스트와 동일한 방식의 인덱싱 지원.  \n",
        "\n",
        "tup = (100, 3.14, 'hello')\n",
        "\n",
        "|tup|100|3.14|'hello'|\n",
        "|-|-|-|-|\n",
        "|index|0|1|2|\n",
        "<br>\n",
        "\n",
        "|100|3.14|'hello'|\n",
        "|-|-|-|\n",
        "|tup[0]|tup[1]|tup[2]|\n",
        "\n",
        "\n",
        "슬라이싱  \n",
        "\n",
        "tup = (10, 20, 30, 40, 50)  \n",
        "tup[0:3]"
      ]
    },
    {
      "cell_type": "code",
      "execution_count": null,
      "metadata": {},
      "outputs": [],
      "source": []
    },
    {
      "cell_type": "code",
      "execution_count": null,
      "metadata": {},
      "outputs": [],
      "source": []
    },
    {
      "cell_type": "code",
      "execution_count": null,
      "metadata": {},
      "outputs": [],
      "source": []
    },
    {
      "cell_type": "markdown",
      "metadata": {
        "id": "J78BKyFdhc6H"
      },
      "source": [
        "##### 2.5.2.3 튜플 메소드"
      ]
    },
    {
      "cell_type": "markdown",
      "metadata": {
        "id": "3Bg_kHqXiV9k"
      },
      "source": [
        "###### count()\n",
        "\n",
        "튜플 내에 찾고자하는 값의 개수를 반환"
      ]
    },
    {
      "cell_type": "code",
      "execution_count": null,
      "metadata": {},
      "outputs": [],
      "source": []
    },
    {
      "cell_type": "markdown",
      "metadata": {
        "id": "pR29Xsz0j7V7"
      },
      "source": [
        "##### 2.5.2.4 튜플 자료 추가\n",
        "\n",
        "튜플은 값 변경이 불가능한 자료형.  \n",
        "하지만 다음과 같이 자료를 추가 가능.\n",
        "\n",
        "** 사용법 **\n",
        "tuple1 + tuple2  \n",
        "<br>  \n",
        "그러나 더하기는 튜플 자체의 변화를 주는 게 아닌  \n",
        "새로운 튜플을 생성하는 것임을 유의"
      ]
    },
    {
      "cell_type": "code",
      "execution_count": null,
      "metadata": {},
      "outputs": [],
      "source": []
    },
    {
      "cell_type": "markdown",
      "metadata": {
        "id": "Bjz6vRhEmywf"
      },
      "source": [
        "### 2.5.3 세트\n"
      ]
    },
    {
      "cell_type": "markdown",
      "metadata": {
        "id": "evWhLZExv_JJ"
      },
      "source": [
        "#### 2.5.3.1 세트 생성\n",
        "\n",
        "세트는 수학의 집합을 구현한 자료형.  \n",
        "세트에 저장된 값들은 순서가 없기 때문에 인덱싱과 슬라이싱 불가.  \n",
        "대신 중복 값 저장이 불가능하다는 특징을 활용해 중복 제거용으로 사용하거나  \n",
        "교집합, 합집합, 차집합과 같은 집합 개념이 필요한 경우 사용\n",
        "\n",
        "사용법\n",
        "* {값1, 값2}\n",
        "* set(반복가능객체)\n",
        "<br>\n",
        "\n",
        "다만 빈 세트 사용 시에는 중괄호를 사용할 수 없음. (이는 딕셔너리)\n",
        "빈 세트 생성 시 set 함수 이용"
      ]
    },
    {
      "cell_type": "code",
      "execution_count": null,
      "metadata": {
        "id": "opW2riDVWibd"
      },
      "outputs": [],
      "source": []
    },
    {
      "cell_type": "markdown",
      "metadata": {
        "id": "YQoOLyAUwD_z"
      },
      "source": [
        "#### 2.5.3.2 세트 메소드"
      ]
    },
    {
      "cell_type": "markdown",
      "metadata": {
        "id": "BT6t_eazwPni"
      },
      "source": [
        "##### intersection()\n"
      ]
    },
    {
      "cell_type": "code",
      "execution_count": null,
      "metadata": {},
      "outputs": [],
      "source": []
    },
    {
      "cell_type": "markdown",
      "metadata": {
        "id": "IFh3kBVwwTrk"
      },
      "source": [
        "##### union()"
      ]
    },
    {
      "cell_type": "code",
      "execution_count": null,
      "metadata": {},
      "outputs": [],
      "source": []
    },
    {
      "cell_type": "markdown",
      "metadata": {
        "id": "t9AAW4CCwPu0"
      },
      "source": [
        "##### difference()"
      ]
    },
    {
      "cell_type": "code",
      "execution_count": null,
      "metadata": {},
      "outputs": [],
      "source": []
    },
    {
      "cell_type": "code",
      "execution_count": null,
      "metadata": {},
      "outputs": [],
      "source": []
    },
    {
      "cell_type": "markdown",
      "metadata": {
        "id": "QUfzNGuymy4E"
      },
      "source": [
        "### 2.5.4 딕셔너리"
      ]
    },
    {
      "cell_type": "markdown",
      "metadata": {
        "id": "R6XmhcD5kdwo"
      },
      "source": [
        "##### 2.5.4.1 딕셔너리 생성\n",
        "\n",
        "딕셔너리는 말 그대로 사전을 의미.  \n",
        "파이썬에서는 '키'와 '값'을 '단어'와 '단어의 의미'처럼 사용.  \n",
        "\n",
        "사용법\n",
        "* dict = {키1: 값1, 키2: 값2, ...}  \n",
        "dict = dict(키1=값1, 키2=값2)  \n",
        "dict = dict([(키1, 값1), (키2, 값2)])  \n",
        "dict = dict({키1: 값1, 키2: 값2})  \n",
        "dict = dict(zip([키1, 키2], [값1, 값2]))"
      ]
    },
    {
      "cell_type": "code",
      "execution_count": null,
      "metadata": {},
      "outputs": [],
      "source": []
    },
    {
      "cell_type": "markdown",
      "metadata": {
        "id": "Dzd17PbMkrJg"
      },
      "source": [
        "##### 2.5.4.2 딕셔너리 값 접근\n",
        "\n",
        "딕셔너리는 키를 통해 값에 접근 가능\n",
        "* 값1 == dict[키1]"
      ]
    },
    {
      "cell_type": "code",
      "execution_count": null,
      "metadata": {},
      "outputs": [],
      "source": []
    },
    {
      "cell_type": "markdown",
      "metadata": {
        "id": "excKoMitm56S"
      },
      "source": [
        "##### 2.5.4.3 딕셔너리 메소드"
      ]
    },
    {
      "cell_type": "markdown",
      "metadata": {
        "id": "nbjOHvZSnBA2"
      },
      "source": [
        "###### keys()\n",
        "\n",
        "딕셔너리 내의 모든 key 를 반환"
      ]
    },
    {
      "cell_type": "code",
      "execution_count": null,
      "metadata": {},
      "outputs": [],
      "source": []
    },
    {
      "cell_type": "markdown",
      "metadata": {
        "id": "5dMcoMclnBKu"
      },
      "source": [
        "###### values()\n",
        "\n",
        "딕셔너리 내의 모든 value 반환"
      ]
    },
    {
      "cell_type": "code",
      "execution_count": null,
      "metadata": {},
      "outputs": [],
      "source": []
    },
    {
      "cell_type": "markdown",
      "metadata": {
        "id": "Rh1U4yzTnBSe"
      },
      "source": [
        "###### items()\n",
        "\n",
        "딕셔너리 내의 모든 key, value 반환"
      ]
    },
    {
      "cell_type": "code",
      "execution_count": null,
      "metadata": {},
      "outputs": [],
      "source": []
    },
    {
      "cell_type": "markdown",
      "metadata": {
        "id": "csRW7GI1nBtw"
      },
      "source": [
        "###### get()\n",
        "\n",
        "딕셔너리에서 key 값에 해당하는 value 반환"
      ]
    },
    {
      "cell_type": "code",
      "execution_count": null,
      "metadata": {},
      "outputs": [],
      "source": []
    },
    {
      "cell_type": "code",
      "execution_count": null,
      "metadata": {},
      "outputs": [],
      "source": []
    },
    {
      "cell_type": "markdown",
      "metadata": {
        "id": "H6gE-985nBhF"
      },
      "source": [
        "###### update()\n",
        "\n",
        "딕셔너리에 값을 추가\n",
        "\n",
        "*주의*  \n",
        "**키는 중복될 수 없음**"
      ]
    },
    {
      "cell_type": "code",
      "execution_count": null,
      "metadata": {},
      "outputs": [],
      "source": []
    },
    {
      "cell_type": "code",
      "execution_count": null,
      "metadata": {},
      "outputs": [],
      "source": []
    },
    {
      "cell_type": "markdown",
      "metadata": {
        "id": "IeBHrFd3lkjs"
      },
      "source": [
        "## 2.6 mutable/immutable\n",
        "\n",
        "mutable은 생성 후에도 변경 가능한 자료형이고,  \n",
        "immutable은 생성 후에는 변경 불가능한 자료형.\n",
        "\n",
        "|mutable|immutable|\n",
        "|---|---|\n",
        "|리스트, 딕셔너리| 정수 ,실수, 문자열, 튜플|"
      ]
    },
    {
      "cell_type": "code",
      "execution_count": null,
      "metadata": {},
      "outputs": [],
      "source": []
    },
    {
      "cell_type": "markdown",
      "metadata": {
        "id": "buXl9ZyDPIiy"
      },
      "source": [
        "# 3.입출력 함수\n",
        "\n",
        "1. printf(): ','로 연결이 가능하며, 띄어쓰기로 연결된다.\n",
        "2. input(): 사용자의 입력을 기다려서 '문자열'로 가져온다.\n",
        "3. input('값을 입력하세요: '): 괄호 안에 있는 글자가 먼저 화면에 나오고 입력을 기다린다."
      ]
    },
    {
      "cell_type": "markdown",
      "metadata": {
        "id": "tACj6cb0fXtV"
      },
      "source": [
        "## 3.1 표준 출력"
      ]
    },
    {
      "cell_type": "markdown",
      "metadata": {
        "id": "vITQARVnfbA7"
      },
      "source": [
        "### 3.1.1 이스케이프 문자\n",
        "\n",
        "확장 문자라는 의미로 대부분 프로그래밍 언어에서 사용됨  \n",
        "\\(bakc slash)로 시작하며, 주요 이스케이프 문자는 아래와 같음\n",
        "\n",
        "|연산자|사용 방법|\n",
        "|---|-----------|\n",
        "|\\'  |작은 따옴표|\n",
        "|\\\"  |큰 따옴표|\n",
        "|\\n  |줄바꿈|\n",
        "|\\t  |탭|\n",
        "|\\\\  |역슬래시|\n",
        "|\\b  |백스페이스|\n"
      ]
    },
    {
      "cell_type": "markdown",
      "metadata": {
        "id": "Mz_epPRyS90B"
      },
      "source": [
        "### 3.1.2 출력 함수"
      ]
    },
    {
      "cell_type": "code",
      "execution_count": null,
      "metadata": {},
      "outputs": [],
      "source": []
    },
    {
      "cell_type": "code",
      "execution_count": null,
      "metadata": {},
      "outputs": [],
      "source": []
    },
    {
      "cell_type": "code",
      "execution_count": null,
      "metadata": {},
      "outputs": [],
      "source": []
    },
    {
      "cell_type": "code",
      "execution_count": null,
      "metadata": {},
      "outputs": [],
      "source": []
    },
    {
      "cell_type": "markdown",
      "metadata": {
        "id": "ipxayeq_gL7-"
      },
      "source": [
        "## 3.2 형식을 갖춘 문자열"
      ]
    },
    {
      "cell_type": "markdown",
      "metadata": {
        "id": "jSWc_mrlgcVk"
      },
      "source": [
        "#### 3.2.1 % 연산자\n",
        "\n",
        "format 및 f-string 사용으로 사용 빈도 낮음 -> 생략"
      ]
    },
    {
      "cell_type": "markdown",
      "metadata": {
        "id": "A7U9IRaYglhJ"
      },
      "source": [
        "### 3.2.2 format 메소드\n",
        "\n",
        "format의 메소드로 변수나 값을 표시하고, 해당 값이 표시될 위치를  \n",
        "중괄호({})로 표시하는 방식\n",
        "\n",
        "** 사용예 **  \n",
        "'Breakfast is {} and {}'.format('span', 'eggs')  \n",
        "'Breakfast is {menu1} and {menu2}'.format(menu1='span', menu2='eggs')  \n",
        "'Breakfast is {0} and {1}'.format('span', 'eggs')  \n",
        "'Breakfast is {1} and {0}'.format('eggs', 'span')"
      ]
    },
    {
      "cell_type": "code",
      "execution_count": null,
      "metadata": {},
      "outputs": [],
      "source": []
    },
    {
      "cell_type": "markdown",
      "metadata": {
        "id": "tuf7tlXIgo9H"
      },
      "source": [
        "### 3.2.3 f-string\n",
        "파이썬 3.6이후 버전을 사용하고 있다면 사용 가능  \n",
        "기본적으로 중괄호를사용하는 format 메소드와 유사한 점이 있으나  \n",
        "format() 메소드에 비해 가독성이 뛰어남\n",
        "\n",
        "** 사용 예 **  \n",
        "who = 'people'  \n",
        "age = '20'  \n",
        "f'{who} is {age} year old'  \n",
        "<br>\n",
        "중괄호 내부에 표시해야 할 변수명을 삽입\n",
        "연산자 사용이나 함수 호출도 가능\n",
        "\n",
        "** 사용 예 **  \n",
        "f'{who} is {age+1} year old'  "
      ]
    },
    {
      "cell_type": "code",
      "execution_count": null,
      "metadata": {},
      "outputs": [],
      "source": []
    },
    {
      "cell_type": "markdown",
      "metadata": {
        "id": "icEseQ07TA05"
      },
      "source": [
        "## 3.3 입력 함수"
      ]
    },
    {
      "cell_type": "code",
      "execution_count": null,
      "metadata": {},
      "outputs": [],
      "source": []
    },
    {
      "cell_type": "code",
      "execution_count": null,
      "metadata": {},
      "outputs": [],
      "source": []
    },
    {
      "cell_type": "code",
      "execution_count": null,
      "metadata": {},
      "outputs": [],
      "source": []
    },
    {
      "cell_type": "code",
      "execution_count": null,
      "metadata": {},
      "outputs": [],
      "source": []
    },
    {
      "cell_type": "code",
      "execution_count": null,
      "metadata": {},
      "outputs": [],
      "source": []
    },
    {
      "cell_type": "code",
      "execution_count": null,
      "metadata": {},
      "outputs": [],
      "source": []
    },
    {
      "cell_type": "markdown",
      "metadata": {
        "id": "c8Nm9FevWO0y"
      },
      "source": [
        "### int()를 사용하는 이유"
      ]
    },
    {
      "cell_type": "code",
      "execution_count": null,
      "metadata": {},
      "outputs": [],
      "source": []
    },
    {
      "cell_type": "code",
      "execution_count": null,
      "metadata": {},
      "outputs": [],
      "source": []
    },
    {
      "cell_type": "markdown",
      "metadata": {
        "id": "x9fw6yxaDEIm"
      },
      "source": [
        "### 여러 값을 한 번에 입력"
      ]
    },
    {
      "cell_type": "code",
      "execution_count": null,
      "metadata": {},
      "outputs": [],
      "source": []
    },
    {
      "cell_type": "markdown",
      "metadata": {
        "id": "70C0gNzEZ64Q"
      },
      "source": [
        "# 4.연산자"
      ]
    },
    {
      "cell_type": "markdown",
      "metadata": {
        "id": "1kLUXccsZ-Jh"
      },
      "source": [
        "## 4.1 산술연산자\n",
        "\n",
        "|연산자|이름        |기타                |\n",
        "|------|------------|--------------------|\n",
        "|+     |덧셈 연산자 |만일 문자열 + 문자열인 경우 두 문자열을 이어 붙임|\n",
        "|-     |뺄셈 연산자 |                    |\n",
        "|\\*    |곱셈 연산자 |만일 문자열 * 숫자인 경우 문자열을 숫자 만큼 반복|\n",
        "|/     |나눗셈 연산자|                   |\n",
        "|//    |몫 연산자   |                    |\n",
        "|%     |나머지 연산자|                   |\n",
        "|**    |파워 연산자 |                    |\n"
      ]
    },
    {
      "cell_type": "code",
      "execution_count": null,
      "metadata": {},
      "outputs": [],
      "source": []
    },
    {
      "cell_type": "code",
      "execution_count": null,
      "metadata": {},
      "outputs": [],
      "source": []
    },
    {
      "cell_type": "code",
      "execution_count": null,
      "metadata": {},
      "outputs": [],
      "source": []
    },
    {
      "cell_type": "code",
      "execution_count": null,
      "metadata": {},
      "outputs": [],
      "source": []
    },
    {
      "cell_type": "code",
      "execution_count": null,
      "metadata": {},
      "outputs": [],
      "source": []
    },
    {
      "cell_type": "code",
      "execution_count": null,
      "metadata": {},
      "outputs": [],
      "source": []
    },
    {
      "cell_type": "code",
      "execution_count": null,
      "metadata": {},
      "outputs": [],
      "source": []
    },
    {
      "cell_type": "markdown",
      "metadata": {
        "id": "5Sa23gC0c5PB"
      },
      "source": [
        "## 4.2 비교연산자\n",
        "\n",
        "|연산자|의미|결과|\n",
        "|------|---------------|---------------|\n",
        "|a > b |a가 b보다 크니?|맞으면 True, 아니면 False|\n",
        "|a >= b|a가 b보다 크거나 크니?|맞으면 True, 아니면 False|\n",
        "|a < b |a가 b보다 작니?|맞으면 True, 아니면 False|\n",
        "|a <= b |a가 b보다 작거나 같니?|맞으면 True, 아니면 False|\n",
        "|a == b |a가 b랑 같니?|맞으면 True, 아니면 False|\n",
        "|a != b |a가 b랑 다르니?|맞으면 True, 아니면 False|\n",
        "\n",
        "※ 비교연산자의 결과는 bool타입(true or false)"
      ]
    },
    {
      "cell_type": "code",
      "execution_count": null,
      "metadata": {},
      "outputs": [],
      "source": []
    },
    {
      "cell_type": "markdown",
      "metadata": {
        "id": "I0ZPCH0HegO6"
      },
      "source": [
        "## 4.3 논리연산자\n",
        "\n",
        "|연산자|결과|\n",
        "|------|----|\n",
        "|a and b|a도 True이고 b도 True이면 결과는 True, 아니면 False|\n",
        "|a or b|a 또는 b 둘 중 하나라도 True이면 결과는 True, 아니면 False|\n",
        "|not a |a가 True이면 False, False이면 True|\n",
        "\n",
        "※ 논리연산자의 결과는 bool타입(true or false)이다."
      ]
    },
    {
      "cell_type": "code",
      "execution_count": null,
      "metadata": {},
      "outputs": [],
      "source": []
    },
    {
      "cell_type": "code",
      "execution_count": null,
      "metadata": {},
      "outputs": [],
      "source": []
    },
    {
      "cell_type": "code",
      "execution_count": null,
      "metadata": {},
      "outputs": [],
      "source": []
    },
    {
      "cell_type": "markdown",
      "metadata": {
        "id": "LGLT389oquXN"
      },
      "source": [
        "## 4.4 대입연산자\n"
      ]
    },
    {
      "cell_type": "markdown",
      "metadata": {
        "id": "hiFRY7oXKRA8"
      },
      "source": [
        "### 4.4.1 대입연산자\n",
        "\n",
        "변수에 값을 저장하기 위해 사용하는 연산자  \n",
        "'='는 반드시 왼쪽에 변수가 배치되고 오른쪽에 저장할 값이 배치\n",
        "\n",
        "일반적인 프로그래밍 언어는 한 번에 1개의 변수에 값을 저장할 수 있지만\n",
        "파이썬은 한 번에 2개 이상의 변수에 값을 저장할 수 있음\n",
        "\n",
        "**사용 예**  \n",
        "\n",
        "|연산자|사용 방법|의미|\n",
        "|---|-----------|--------------------------|\n",
        "|=  |a = 1      |변수 a에 1을 저장         |\n",
        "|=  |a, b = 1, 2|변수 a에 1을 b에 2를 저장 |\n"
      ]
    },
    {
      "cell_type": "code",
      "execution_count": null,
      "metadata": {},
      "outputs": [],
      "source": []
    },
    {
      "cell_type": "code",
      "execution_count": null,
      "metadata": {},
      "outputs": [],
      "source": []
    },
    {
      "cell_type": "markdown",
      "metadata": {
        "id": "p9pIFCRsKiIb"
      },
      "source": [
        "### 4.4.2 복합대입연산자\n",
        "연산을 먼저 진행하고, 그 결과를 변수에 저장할 수 있음  \n",
        "<br>\n",
        "\n",
        "|연산자|사용방법|의미|\n",
        "|---|---|---|\n",
        "|+=|a += 2|변수 a에 2를 더한 값을 저장|\n",
        "|-=|a -= 2|변수 a에 2를 뺀 값을 저장|\n",
        "|*=|a *= 2|변수 a에 2를 곱한 값을 저장|\n",
        "|**=|a **= 2|변수 a에 2를 거듭제곱한 값을 저장|\n",
        "|/=|a /= 2|변수 a에 2로 나눈 값을 저장|\n",
        "|//=|a //= 2|변수 a에 2로 나눈 몫을 저장|\n",
        "|%=|a %= 2|변수 a에 2로 나눈 나머지 저장|"
      ]
    },
    {
      "cell_type": "code",
      "execution_count": null,
      "metadata": {},
      "outputs": [],
      "source": []
    },
    {
      "cell_type": "markdown",
      "metadata": {
        "id": "AgdboCEDqwBc"
      },
      "source": [
        "## 4.5 비트연산자\n",
        "비트 연산자는 변수 값을 2진수로 변환 후 비트 단위로 연산 수행  \n",
        "이때 사용하는 연산이 비트 연산\n",
        "<br>\n",
        "\n",
        "|연산자|사용방법|의미|\n",
        "|---|---|---|\n",
        "|&|a & b|a와 b를 비트 AND 처리|\n",
        "|\\||a \\| b|a와 b를 비트 OR 처리|\n",
        "|^|a ^ b|a와 b를 비트 XOR 처리|\n",
        "|~|~a|a를 비트 NOT 처리|\n",
        "|<<|a << 2|a를 비트로 변환하여 왼쪽으로 2비트 이동|\n",
        "|>>|a >> 2|a를 비트로 변환하여 오른쪽으로 2비트 이동|"
      ]
    },
    {
      "cell_type": "markdown",
      "metadata": {
        "id": "cdiWnJgJqz_j"
      },
      "source": [
        "## 4.6 시퀀스 연산자\n",
        "\n",
        "시퀀스 연산자는 순서가 있는 데이터 구조인 시퀀스(리스트, 튜플, range, 문자열 등)에서 사용 가능한 연산자\n",
        "\n",
        "|연산자|의미|사용 방법|결과|\n",
        "|---|---|---|---|\n",
        "|+|연결하기|[1, 3, 5] + [2, 4, 6]|[1, 3, 5, 2, 4, 6]|\n",
        "|||'hello' + ' ' + 'python'|'hello python'|\n",
        "|\\*|반복하기|[1, 3, 5] * 2|[1, 3, 5, 1, 3, 5]|\n",
        "|||'★' * 5|'★★★★★'|"
      ]
    },
    {
      "cell_type": "code",
      "execution_count": null,
      "metadata": {},
      "outputs": [],
      "source": []
    },
    {
      "cell_type": "code",
      "execution_count": null,
      "metadata": {},
      "outputs": [],
      "source": []
    },
    {
      "cell_type": "markdown",
      "metadata": {
        "id": "-e8rSaTDq1pK"
      },
      "source": [
        "## 4.7 기타 연산자"
      ]
    },
    {
      "cell_type": "markdown",
      "metadata": {
        "id": "HpqRdfsbq4rd"
      },
      "source": [
        "### 4.7.1 멤버십 연산자\n",
        "\n",
        "어떤 값이 지정된 컬렉션(리스트, 문자열, 딕셔너리 등)에 속해 있는지  \n",
        "여부를 판단하여 속해있으면 True, 아니면 False를 반환  \n",
        "리스트나 문자열과 같은 시퀀스 컬렉션에서는 '값'의 존재 유무를 판단하고,  \n",
        "딕셔너리에서는 '키'의 존재 여부를 판단\n",
        "\n",
        "|연산자|의미|사용 방법|결과|\n",
        "|---|---|---|---|\n",
        "|in|포함되어 있으면 True|5 in [1, 2, 3, 4, 5]|True|\n",
        "|||'h' in 'apple'|False|\n",
        "|||'a' in {'a': 'apple', 'b': 'banana'}|True|\n",
        "|not in|포함되어 있지 않으면 True|5 not in [1, 2, 3, 4, 5]|False|\n",
        "|||'h' not in 'apple'|True|\n",
        "|||'a' not in {'a': 'apple', 'b': 'banana'}|False|"
      ]
    },
    {
      "cell_type": "code",
      "execution_count": null,
      "metadata": {},
      "outputs": [],
      "source": []
    },
    {
      "cell_type": "markdown",
      "metadata": {
        "id": "NbazRNFMq75Y"
      },
      "source": [
        "### 4.7.2 조건 연산자(삼항 연산자)\n",
        "어떤 조건식의 결과가 참인 경우와 거짓인 경우에 사용할 결과가 한 번에 작성할 수 있는 연산자  \n",
        "'조건식', '참인 경우 결과', '거짓인 경우 결과'를 모두 한 번에 작성하려면\n",
        "항이 3개가 필요하기 때문에 삼항연산자고도 부름\n",
        "\n",
        "|연산자|의미|\n",
        "|---|---|\n",
        "|참 if 조건식 else 거짓|조건식의 결과가 참인 경우와 거짓인 경우를 한 번에 처리|"
      ]
    },
    {
      "cell_type": "code",
      "execution_count": null,
      "metadata": {},
      "outputs": [],
      "source": []
    },
    {
      "cell_type": "markdown",
      "metadata": {
        "id": "aCYep9yEQtiB"
      },
      "source": [
        "## 4.8 연산자 우선순위\n",
        "연산자를 2개 이상 함께 사용할 때 먼저 처리되는 연산자가 존재  \n",
        "**우선순위는 아래와 같으나 제발 외우지 말자**\n",
        "\n",
        "|우선순위|연산자|의미|\n",
        "|---|---|---|\n",
        "|1|[값...], (*값...), {값...}, {키:값...}|리스트 ,튜플, 집합, 딕셔너리|\n",
        "|2|a[0], a[0:3], a.name|인덱싱, 슬라이싱, 객체 프로퍼티|\n",
        "|3|**|거듭제곱|\n",
        "|4|+a, -a|양의 부호, 음의 부호|\n",
        "|5|*, /, //, %|곱셈, 나눗셈, 몫, 나머지|\n",
        "|6|+, -|덧셈, 뺄셈|\n",
        "|7|<, <=, >, >=, ==, !=|관계 연산자|\n",
        "|8|not|논리 NOT|\n",
        "|9|and|논리 AND|\n",
        "|10|or|논리 OR|\n",
        "|11|참 if 조건식 else 거짓|조건 연산자|\n",
        "|12|=|대입 연산자|"
      ]
    }
  ],
  "metadata": {
    "colab": {
      "collapsed_sections": [
        "huVotSNpisvF",
        "vITQARVnfbA7",
        "jSWc_mrlgcVk"
      ],
      "provenance": [],
      "toc_visible": true
    },
    "kernelspec": {
      "display_name": "Python 3.9.12 ('base')",
      "language": "python",
      "name": "python3"
    },
    "language_info": {
      "name": "python",
      "version": "3.11.7"
    },
    "vscode": {
      "interpreter": {
        "hash": "e4af6128c7e0808fede432f38729c473c5b0d80882e83c469acdb54455c56396"
      }
    }
  },
  "nbformat": 4,
  "nbformat_minor": 0
}
