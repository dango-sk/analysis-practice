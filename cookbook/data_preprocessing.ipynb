{
 "cells": [
  {
   "cell_type": "code",
   "execution_count": 27,
   "id": "50313ec7",
   "metadata": {},
   "outputs": [],
   "source": [
    "import pandas as pd\n",
    "import numpy as np\n",
    "import yfinance as yf"
   ]
  },
  {
   "cell_type": "code",
   "execution_count": 28,
   "id": "9eeb6a3b",
   "metadata": {},
   "outputs": [],
   "source": [
    "df = yf.download('AAPL', start='2010-01-01', end='2020-12-31',auto_adjust=False ,progress=False)"
   ]
  },
  {
   "cell_type": "code",
   "execution_count": 29,
   "id": "8ceca87b",
   "metadata": {},
   "outputs": [],
   "source": [
    "df[\"simple_rtn\"] = df.loc[:, 'Adj Close'].pct_change()\n",
    "df[\"log_rtn\"] = np.log(df.loc[:, 'Adj Close'] / df.loc[:, 'Adj Close'].shift(1))"
   ]
  },
  {
   "cell_type": "code",
   "execution_count": 33,
   "id": "8331d4f9",
   "metadata": {},
   "outputs": [],
   "source": [
    "df = df[['Adj Close', 'simple_rtn', 'log_rtn']].head()"
   ]
  },
  {
   "cell_type": "code",
   "execution_count": 34,
   "id": "e631ae6b",
   "metadata": {},
   "outputs": [
    {
     "data": {
      "text/html": [
       "<div>\n",
       "<style scoped>\n",
       "    .dataframe tbody tr th:only-of-type {\n",
       "        vertical-align: middle;\n",
       "    }\n",
       "\n",
       "    .dataframe tbody tr th {\n",
       "        vertical-align: top;\n",
       "    }\n",
       "\n",
       "    .dataframe thead tr th {\n",
       "        text-align: left;\n",
       "    }\n",
       "\n",
       "    .dataframe thead tr:last-of-type th {\n",
       "        text-align: right;\n",
       "    }\n",
       "</style>\n",
       "<table border=\"1\" class=\"dataframe\">\n",
       "  <thead>\n",
       "    <tr>\n",
       "      <th>Price</th>\n",
       "      <th>Adj Close</th>\n",
       "      <th>simple_rtn</th>\n",
       "      <th>log_rtn</th>\n",
       "    </tr>\n",
       "    <tr>\n",
       "      <th>Ticker</th>\n",
       "      <th>AAPL</th>\n",
       "      <th></th>\n",
       "      <th></th>\n",
       "    </tr>\n",
       "    <tr>\n",
       "      <th>Date</th>\n",
       "      <th></th>\n",
       "      <th></th>\n",
       "      <th></th>\n",
       "    </tr>\n",
       "  </thead>\n",
       "  <tbody>\n",
       "    <tr>\n",
       "      <th>2010-01-04</th>\n",
       "      <td>6.424605</td>\n",
       "      <td>NaN</td>\n",
       "      <td>NaN</td>\n",
       "    </tr>\n",
       "    <tr>\n",
       "      <th>2010-01-05</th>\n",
       "      <td>6.435711</td>\n",
       "      <td>0.001729</td>\n",
       "      <td>0.001727</td>\n",
       "    </tr>\n",
       "    <tr>\n",
       "      <th>2010-01-06</th>\n",
       "      <td>6.333346</td>\n",
       "      <td>-0.015906</td>\n",
       "      <td>-0.016034</td>\n",
       "    </tr>\n",
       "    <tr>\n",
       "      <th>2010-01-07</th>\n",
       "      <td>6.321636</td>\n",
       "      <td>-0.001849</td>\n",
       "      <td>-0.001851</td>\n",
       "    </tr>\n",
       "    <tr>\n",
       "      <th>2010-01-08</th>\n",
       "      <td>6.363664</td>\n",
       "      <td>0.006648</td>\n",
       "      <td>0.006626</td>\n",
       "    </tr>\n",
       "  </tbody>\n",
       "</table>\n",
       "</div>"
      ],
      "text/plain": [
       "Price      Adj Close simple_rtn   log_rtn\n",
       "Ticker          AAPL                     \n",
       "Date                                     \n",
       "2010-01-04  6.424605        NaN       NaN\n",
       "2010-01-05  6.435711   0.001729  0.001727\n",
       "2010-01-06  6.333346  -0.015906 -0.016034\n",
       "2010-01-07  6.321636  -0.001849 -0.001851\n",
       "2010-01-08  6.363664   0.006648  0.006626"
      ]
     },
     "execution_count": 34,
     "metadata": {},
     "output_type": "execute_result"
    }
   ],
   "source": [
    "df.head()"
   ]
  },
  {
   "cell_type": "code",
   "execution_count": null,
   "id": "c22ac8ca",
   "metadata": {},
   "outputs": [],
   "source": []
  }
 ],
 "metadata": {
  "kernelspec": {
   "display_name": "Python 3",
   "language": "python",
   "name": "python3"
  },
  "language_info": {
   "codemirror_mode": {
    "name": "ipython",
    "version": 3
   },
   "file_extension": ".py",
   "mimetype": "text/x-python",
   "name": "python",
   "nbconvert_exporter": "python",
   "pygments_lexer": "ipython3",
   "version": "3.13.7"
  }
 },
 "nbformat": 4,
 "nbformat_minor": 5
}
