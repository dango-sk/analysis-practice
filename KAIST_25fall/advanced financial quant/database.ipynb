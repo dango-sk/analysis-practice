{
 "cells": [
  {
   "cell_type": "code",
   "execution_count": 8,
   "id": "7d626c93",
   "metadata": {},
   "outputs": [],
   "source": [
    "import pandas as pd\n",
    "from sqlalchemy import create_engine\n",
    "from sqlalchemy.engine import URL\n",
    "\n",
    "user = \"root\"\n",
    "password = \"mydango0707!\"   # 특수문자 그대로 OK\n",
    "host = \"localhost\"\n",
    "database = \"finance\"             # 이미 만든 DB 이름\n",
    "\n",
    "url = URL.create(\n",
    "    \"mysql+pymysql\",\n",
    "    username=user,\n",
    "    password=password,\n",
    "    host=host,\n",
    "    port=3306,\n",
    "    database=database,\n",
    ")\n",
    "\n",
    "engine = create_engine(url, connect_args={\"local_infile\": 1}, pool_pre_ping=True)\n"
   ]
  },
  {
   "cell_type": "code",
   "execution_count": 11,
   "id": "074453e7",
   "metadata": {},
   "outputs": [
    {
     "name": "stdout",
     "output_type": "stream",
     "text": [
      "c:\\Users\\User\\.vscode\\analysis-practice\\KAIST_25fall\\advanced financial quant\n",
      "              datetime   BTCUSDT  ETHUSDT  XRPUSDT  BCHUSDT  LTCUSDT  ADAUSDT  \\\n",
      "0  2025-06-24 00:00:00  101611.8  2272.55   2.0179   448.66    81.58   0.5471   \n",
      "1  2025-06-24 00:01:00  101750.0  2278.25   2.0213   449.19    81.68   0.5479   \n",
      "2  2025-06-24 00:02:00  101764.3  2279.07   2.0213   449.60    81.75   0.5481   \n",
      "3  2025-06-24 00:03:00  101900.9  2282.18   2.0238   450.06    81.93   0.5495   \n",
      "4  2025-06-24 00:04:00  101895.0  2281.94   2.0241   450.42    81.90   0.5498   \n",
      "\n",
      "   ETCUSDT  TRXUSDT  DOTUSDT  DOGEUSDT  \n",
      "0   15.524  0.27148    3.246   0.15363  \n",
      "1   15.528  0.27149    3.253   0.15400  \n",
      "2   15.548  0.27172    3.254   0.15401  \n",
      "3   15.556  0.27169    3.260   0.15441  \n",
      "4   15.581  0.27170    3.262   0.15451  \n"
     ]
    },
    {
     "data": {
      "text/plain": [
       "4320"
      ]
     },
     "execution_count": 11,
     "metadata": {},
     "output_type": "execute_result"
    }
   ],
   "source": [
    "import os\n",
    "print(os.getcwd())\n",
    "\n",
    "from pathlib import Path \n",
    "Base = Path(\"./NeoMatrixAI\")\n",
    "\n",
    "# CSV 읽기\n",
    "df = pd.read_csv(Base/\"df_sample.csv\")\n",
    "print(df.head())\n",
    "df.to_sql(\n",
    "    name=\"df_sample\",\n",
    "    con=engine,\n",
    "    schema=\"finance\",\n",
    "    if_exists=\"replace\",\n",
    "    index=False\n",
    ")"
   ]
  },
  {
   "cell_type": "code",
   "execution_count": 12,
   "id": "26e45ca4",
   "metadata": {},
   "outputs": [
    {
     "name": "stdout",
     "output_type": "stream",
     "text": [
      "('finance',)\n",
      "[('df_sample',), ('finance',)]\n",
      "(4320,)\n"
     ]
    }
   ],
   "source": [
    "with engine.connect() as conn:\n",
    "    print(conn.exec_driver_sql(\"SELECT DATABASE()\").fetchone())\n",
    "    print(conn.exec_driver_sql(\"SHOW TABLES IN finance\").fetchall())\n",
    "    print(conn.exec_driver_sql(\"SELECT COUNT(*) FROM finance.df_sample\").fetchone())\n"
   ]
  }
 ],
 "metadata": {
  "kernelspec": {
   "display_name": "Python 3",
   "language": "python",
   "name": "python3"
  },
  "language_info": {
   "codemirror_mode": {
    "name": "ipython",
    "version": 3
   },
   "file_extension": ".py",
   "mimetype": "text/x-python",
   "name": "python",
   "nbconvert_exporter": "python",
   "pygments_lexer": "ipython3",
   "version": "3.13.7"
  }
 },
 "nbformat": 4,
 "nbformat_minor": 5
}
