{
 "cells": [
  {
   "cell_type": "code",
   "execution_count": 1,
   "id": "b03105eb",
   "metadata": {},
   "outputs": [
    {
     "name": "stderr",
     "output_type": "stream",
     "text": [
      "C:\\Users\\User\\AppData\\Local\\Temp\\ipykernel_22228\\934743543.py:14: DeprecationWarning: datetime.datetime.utcnow() is deprecated and scheduled for removal in a future version. Use timezone-aware objects to represent datetimes in UTC: datetime.datetime.now(datetime.UTC).\n",
      "  today = datetime.utcnow().replace(tzinfo=timezone.utc)\n"
     ]
    },
    {
     "name": "stdout",
     "output_type": "stream",
     "text": [
      "데이터 수집 구간: 2025-09-06 00:00:00+00:00  ~  2025-09-13 00:00:00+00:00\n"
     ]
    }
   ],
   "source": [
    "import ccxt\n",
    "import pandas as pd\n",
    "from datetime import datetime, timedelta, timezone\n",
    "\n",
    "# Binance 연결\n",
    "exchange = ccxt.binance()\n",
    "\n",
    "# 심볼 리스트\n",
    "symbols = [\n",
    "    'BTC/USDT','ETH/USDT'\n",
    "]\n",
    "\n",
    "# 오늘 날짜 (UTC 기준)\n",
    "today = datetime.utcnow().replace(tzinfo=timezone.utc)\n",
    "\n",
    "# 끝 시점: 이틀 전 00:00\n",
    "end_time = datetime(today.year, today.month, today.day, tzinfo=timezone.utc) - timedelta(days=2)\n",
    "\n",
    "# 시작 시점: 끝 시점으로부터 7일 전\n",
    "start_time = end_time - timedelta(days=7)\n",
    "\n",
    "since = int(start_time.timestamp() * 1000)\n",
    "until = int(end_time.timestamp() * 1000)\n",
    "\n",
    "print(\"데이터 수집 구간:\", start_time, \" ~ \", end_time)\n",
    "\n",
    "data = {}\n",
    "for symbol in symbols[:]:  # 예시로 5개만\n",
    "    all_ohlcv = []\n",
    "    fetch_since = since\n",
    "    \n",
    "    while True:\n",
    "        ohlcv = exchange.fetch_ohlcv(symbol, timeframe='1m', since=fetch_since, limit=1000)\n",
    "        if not ohlcv:\n",
    "            break\n",
    "        all_ohlcv.extend(ohlcv)\n",
    "        \n",
    "        last_ts = ohlcv[-1][0]\n",
    "        if last_ts >= until:\n",
    "            break\n",
    "        fetch_since = last_ts + 60_000  # 1분 = 60,000ms\n",
    "    \n",
    "    df = pd.DataFrame(all_ohlcv, columns=['timestamp','open','high','low','close','volume'])\n",
    "    df['datetime'] = pd.to_datetime(df['timestamp'], unit='ms', utc=True)\n",
    "    df['symbol'] = symbol \n",
    "    df.set_index('datetime', inplace=True)\n",
    "    \n",
    "    df = df.loc[start_time:end_time]\n",
    "    data[symbol] = df\n",
    "\n",
    "\n",
    "data = pd.concat(data.values())"
   ]
  },
  {
   "cell_type": "code",
   "execution_count": 2,
   "id": "354ae27e",
   "metadata": {},
   "outputs": [
    {
     "data": {
      "text/plain": [
       "2"
      ]
     },
     "execution_count": 2,
     "metadata": {},
     "output_type": "execute_result"
    }
   ],
   "source": [
    "data['symbol'].nunique()"
   ]
  }
 ],
 "metadata": {
  "kernelspec": {
   "display_name": "Python 3",
   "language": "python",
   "name": "python3"
  },
  "language_info": {
   "codemirror_mode": {
    "name": "ipython",
    "version": 3
   },
   "file_extension": ".py",
   "mimetype": "text/x-python",
   "name": "python",
   "nbconvert_exporter": "python",
   "pygments_lexer": "ipython3",
   "version": "3.13.7"
  }
 },
 "nbformat": 4,
 "nbformat_minor": 5
}
