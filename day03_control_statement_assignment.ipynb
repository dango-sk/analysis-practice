{
  "cells": [
    {
      "cell_type": "markdown",
      "metadata": {
        "id": "mZoepzGCkfk8"
      },
      "source": [
        "# 5.제어문"
      ]
    },
    {
      "cell_type": "markdown",
      "metadata": {
        "id": "co_EH3TINa6_"
      },
      "source": [
        "## 5.1 조건문\n",
        "\n",
        "조건문은 특정 조건을 만족하는지 여부에 따라 실행하는 코드가 달라져야 할 때 사용.  \n",
        "예를 들어 삼각형이 있을 시 삼각형 변의 길이에 따라  \n",
        "정, 이등변, 직각, 일반 등의 삼각형으로 구분할 경우 조건이 필요.  \n",
        "파이썬은 이와 같은 상황에서 사용할 수 있는 조건문인 if문 제공"
      ]
    },
    {
      "cell_type": "markdown",
      "metadata": {
        "id": "gPeug9YQNaVn"
      },
      "source": [
        "### 5.1.1 if"
      ]
    },
    {
      "cell_type": "markdown",
      "metadata": {
        "id": "GAvlLQwINkkf"
      },
      "source": [
        "**사용법**\n",
        "> ```python\n",
        "> if 조건식:\n",
        ">     조건식의 결과가 True일 때 실행문\n",
        "> ```\n",
        "<br>\n",
        "조건식의 결과가 True 이면 실행문이 동작하고,\n",
        "조건식의 결과가 False면 실행문이 동작하지 않음.\n",
        "<br>\n",
        "\n",
        "**※주의**\n",
        "파이썬은 타 언어와 다르게 코드 블록을 나타내는  \n",
        "중괄호({})가 없는 대신 들여쓰기로 구분.  \n",
        "따라서 다음과 같이 쓸 경우 오류 발생.\n",
        "\n",
        "\n",
        "<br>\n",
        "\n",
        "들여쓰기 규칙은 다음과 같음  \n",
        "1. 공백이나 탭을 이용하여 들여쓰기 수행  \n",
        "2. 공백의 개수는 상관 없음  \n",
        "그러나 파이썬 스타일 가이드(PEP 8)에 따르면 공백의 개수는 4개 사용.  \n",
        "3. 탭은 1개만 사용  \n",
        "4. 동일 구역에서 들여쓰기는 통일  \n",
        "(탭과 공백을 혼용하여 사용할 수 없고, 들여쓰기 수준도 동일)\n"
      ]
    },
    {
      "cell_type": "code",
      "execution_count": 1,
      "metadata": {},
      "outputs": [
        {
          "name": "stdout",
          "output_type": "stream",
          "text": [
            "a는 5보다 큰 수\n"
          ]
        }
      ],
      "source": [
        "a = 5\n",
        "if a >= 5:\n",
        "    print('a는 5보다 큰 수')\n",
        "\n",
        "b = 3\n",
        "if b > 5:\n",
        "    print('b는 5보다 큰 수')"
      ]
    },
    {
      "cell_type": "markdown",
      "metadata": {
        "id": "DuGQmRLLosgP"
      },
      "source": [
        "### 5.1.2 if-else\n",
        "\n",
        "if-else문은 조건식을 만족하는 경우와 만족하지 않는 경우를\n",
        "구분할 필요가 있을 시 사용.\n",
        "\n",
        "<br>\n",
        "\n",
        "**사용법**\n",
        "> ```python\n",
        "> if 조건식:\n",
        ">   조건식의 결과가 True일 때 실행문  \n",
        "> else:\n",
        ">   조건식의 결과가 False일 때 실행문\n",
        "> ```"
      ]
    },
    {
      "cell_type": "code",
      "execution_count": 2,
      "metadata": {},
      "outputs": [
        {
          "name": "stdout",
          "output_type": "stream",
          "text": [
            "a는 5보다 같거나 작은 수\n"
          ]
        }
      ],
      "source": [
        "a = 5\n",
        "if a > 5:\n",
        "    print('a는 5보다 큰 수')\n",
        "else:\n",
        "    print('a는 5보다 같거나 작은 수')"
      ]
    },
    {
      "cell_type": "markdown",
      "metadata": {
        "id": "LQgZl-VxpJLI"
      },
      "source": [
        "### 5.1.3 if-elif\n",
        "\n",
        "if-elif문은 특정 조건에 따라 3가지 이상으로 구분해야 할 때 사용.  \n",
        "여기서 elif는 else if\n",
        "\n",
        "<br>\n",
        "\n",
        "**사용법**\n",
        "> ```python\n",
        "> if 조건식1:\n",
        ">   조건식1의 결과가 True일 때 실행문  \n",
        "> elif 조건식2:\n",
        ">   조건식1의 결과가 False이고 조건식2의 결과가 True일 때 실행문.  \n",
        "> elif 조건식3:\n",
        ">   조건식1, 2의 결과가 False이고 조건식 3의 결과가 True일 때 실행문\n",
        "```"
      ]
    },
    {
      "cell_type": "code",
      "execution_count": 3,
      "metadata": {},
      "outputs": [
        {
          "name": "stdout",
          "output_type": "stream",
          "text": [
            ">7\n",
            "----------------------------------------------------------------------------------------------------\n",
            ">7\n",
            ">4\n",
            ">1\n"
          ]
        }
      ],
      "source": [
        "a = 9\n",
        "\n",
        "if a > 7:\n",
        "    print('>7')\n",
        "elif a > 4:\n",
        "    print('>4')\n",
        "elif a > 1:\n",
        "    print('>1')\n",
        "\n",
        "print('-' * 100)\n",
        "\n",
        "if a > 7:\n",
        "    print('>7')\n",
        "if a > 4:\n",
        "    print('>4')\n",
        "if a > 1:\n",
        "    print('>1')"
      ]
    },
    {
      "cell_type": "markdown",
      "metadata": {
        "id": "XPkVR1XtprZS"
      },
      "source": [
        "### 5.1.4 if-elif-else\n",
        "\n",
        "if-elif문은 특정 조건에 따라 구분 후 위의 조건을 만족하는 않는  \n",
        "모든 경우에 대해 실행을 할 때 사용.\n",
        "\n",
        "<br>\n",
        "\n",
        "**사용법**\n",
        "> ```python\n",
        "> if 조건식1:\n",
        ">   조건식1의 결과가 True일 때 실행문  \n",
        "> elif 조건식2:\n",
        ">   조건식1의 결과가 False이고 조건식2의 결과가 True일 때 실행문\n",
        "> elif 조건식3:\n",
        ">   조건식1, 2의 결과가 False이고 조건식 3의 결과가 True일 때 실행문  \n",
        "> else:\n",
        ">   조건식1, 2, 3이 모두 False일 때 실행될 문장\n",
        "> ```"
      ]
    },
    {
      "cell_type": "code",
      "execution_count": 4,
      "metadata": {},
      "outputs": [
        {
          "name": "stdout",
          "output_type": "stream",
          "text": [
            ">4\n"
          ]
        }
      ],
      "source": [
        "a = 9\n",
        "\n",
        "if (a > 7) and (a > 11) and (a > 10):\n",
        "    print('>7')\n",
        "elif a > 4:\n",
        "    print('>4')\n",
        "elif a > 1:\n",
        "    print('>1')"
      ]
    },
    {
      "cell_type": "code",
      "execution_count": 5,
      "metadata": {},
      "outputs": [],
      "source": [
        "if (a > 10) and (b == 10):\n",
        "    print('??')"
      ]
    },
    {
      "cell_type": "markdown",
      "metadata": {},
      "source": [
        "### Practice 1\n",
        "\n",
        "점수를 입력받는다 <br>\n",
        "90 -> A <br>\n",
        "80 -> B <br>\n",
        "70 -> C <br>\n",
        "60 -> D <br>\n",
        "나머지 -> F <br>\n",
        "\n",
        "1.입력 시 손이 미끄러져 숫자가 아닌 다른 문자가 들어가면? <br>\n",
        "2.점수는 0~100점 "
      ]
    },
    {
      "cell_type": "code",
      "execution_count": 6,
      "metadata": {},
      "outputs": [
        {
          "name": "stdout",
          "output_type": "stream",
          "text": [
            "F\n"
          ]
        }
      ],
      "source": [
        "score = input()\n",
        "\n",
        "if score.isdecimal():\n",
        "    score = int(score)\n",
        "\n",
        "    if 0 <= score <= 100:\n",
        "        if score >= 90:     # score < 100 and score > 90\n",
        "            print('A')\n",
        "        elif score >= 80:   # score < 90 and score >= 80\n",
        "            print('B')\n",
        "        elif score >= 70:\n",
        "            print('C')\n",
        "        elif score >= 60:\n",
        "            print('D')\n",
        "        else:\n",
        "            print('F')\n",
        "\n",
        "else:\n",
        "    print('입력 오류')"
      ]
    },
    {
      "cell_type": "markdown",
      "metadata": {},
      "source": [
        "### Practice 2\n",
        "\n",
        "\n",
        "미세먼지 저감 활동의 일환으로 차량 2부제를 실시하고자 한다.  \n",
        "사용자로부터 차량번호를 입력받아 차량번호가   \n",
        "짝수로 끝나면 '운행 가능', 아니면 '운행 불가'를 출력하는 프로그램 작성."
      ]
    },
    {
      "cell_type": "code",
      "execution_count": 7,
      "metadata": {},
      "outputs": [
        {
          "name": "stdout",
          "output_type": "stream",
          "text": [
            "운행 가능\n"
          ]
        }
      ],
      "source": [
        "car_no = input()\n",
        "\n",
        "if int(car_no[-1])%2 == 0:\n",
        "    print('운행 가능')\n",
        "else:\n",
        "    print('운행 불가')"
      ]
    },
    {
      "cell_type": "markdown",
      "metadata": {
        "id": "co_EH3TINa6_"
      },
      "source": [
        "## 5.2 반복문\n",
        "\n",
        "반복문은 어떤 수행 작업을 한 번이 아니라 계속해서 수행해야 할 때 사용.  \n",
        "반복문은 while과 for 두 가지 존재."
      ]
    },
    {
      "cell_type": "markdown",
      "metadata": {
        "id": "gPeug9YQNaVn"
      },
      "source": [
        "### 5.2.1 while\n",
        "\n",
        "<span style=\"font-size: 13pt\"> while </span>\n",
        "\n",
        "while문은 특정 조건을 만족하는 동안 반복해서 수행해야 하는 코드를 작성할 때 사용.  \n",
        "\n",
        "<br>\n",
        "\n",
        "<span style=\"font-size: 13pt\"> while문 기본 구조 </span>\n",
        "> ```python\n",
        "> while 조건식:  \n",
        ">      반복실행문\n",
        "> ```\n",
        "     \n",
        "조건식의 결과가 True이면 while문을 실행  \n",
        "반복문 실행이 종료되면 다시 조건식으로 이동  \n",
        "조건식의 결과가 False이면 더 이상 반복 실행문을 실행하지 않음\n",
        "\n",
        "<br>\n",
        "\n",
        "\n",
        "<span style=\"font-size: 13pt\"> while문이 필요한 경우 </span>\n",
        "\n",
        "while문은 주로 횟수가 정해지지 않은 연산을 진행할 때나  \n",
        "어떤 특정 동작이 지속될 때 사용\n",
        "\n",
        "<br>\n",
        "\n",
        "\n",
        "<span style=\"font-size: 13pt\"> while문의 중첩 </span>\n",
        "\n",
        "while문 내부에 또 다른 while문이 나타나는 것을 while문의 중첩이라고 함.  \n",
        "반복처리해야 하는 대상이 2개 이상이면 while문의 중첩이 필요.  "
      ]
    },
    {
      "cell_type": "code",
      "execution_count": 8,
      "metadata": {
        "id": "vhicq3-qTnKS"
      },
      "outputs": [
        {
          "name": "stdout",
          "output_type": "stream",
          "text": [
            "5050\n"
          ]
        }
      ],
      "source": [
        "total = 0\n",
        "i = 1\n",
        "\n",
        "while i <= 100:\n",
        "    total += i\n",
        "    i += 1\n",
        "\n",
        "print(total)"
      ]
    },
    {
      "cell_type": "code",
      "execution_count": 9,
      "metadata": {},
      "outputs": [
        {
          "name": "stdout",
          "output_type": "stream",
          "text": [
            "1: hello world\n",
            "2: hello world\n",
            "3: hello world\n",
            "4: hello world\n",
            "5: hello world\n",
            "6: hello world\n",
            "7: hello world\n",
            "8: hello world\n",
            "9: hello world\n",
            "10: hello world\n"
          ]
        }
      ],
      "source": [
        "i = 1\n",
        "while i <= 10:\n",
        "    print(f'{i}: hello world')\n",
        "    i += 1"
      ]
    },
    {
      "cell_type": "markdown",
      "metadata": {
        "id": "ItBSvkAaYZwI"
      },
      "source": [
        "### 5.2.2 for\n",
        "\n",
        "for문은 값의 범위나 횟수가 정해져 있을 때 사용.  \n",
        "while문에 비해서 자주 사용되는 반복문.\n",
        "\n",
        "<br>\n",
        "\n",
        "<span style=\"font-size: 13pt\"> for문 기본 구조 </span>\n",
        "> ```python\n",
        "> for 변수 in 반복가능객체:  \n",
        ">     반복실행문\n",
        "> ```\n",
        "\n",
        "for문은 조건식이 존재하지 않고 **변수**와 **반복가능객체**만 사용하고 있음.  \n",
        "\n",
        "<br>\n",
        "\n",
        "**반복가능객체**  \n",
        "여러 개의 데이터를 저장하고 있는 객체를 '반복가능객체'라고 부름  \n",
        "for문에서 사용되는 반복가능한 주요 객체는 다음과 같음  \n",
        "\n",
        "|구분|자료형|예제|\n",
        "|-|-|-|\n",
        "|sequence|문자열|'hello'|\n",
        "||리스트|[1, 2, 3]|\n",
        "||튜플|(1, 2, 3)|\n",
        "||range|range(100)|\n",
        "|non-sequence|set|{1, 2, 3}|\n",
        "||dictionary|{'a': 'apple', 'b': 'banana'}|\n"
      ]
    },
    {
      "cell_type": "markdown",
      "metadata": {
        "id": "7KK5ieHDY83P"
      },
      "source": [
        "#### 5.2.2.1 시퀀스와 for문"
      ]
    },
    {
      "cell_type": "markdown",
      "metadata": {
        "id": "9ui5MYMzbJQp"
      },
      "source": [
        "##### for문과 문자열\n",
        "for문과 문자열을 함께 사용하면 문자열 각 요소를  \n",
        "순차적으로 하나씩 꺼내서 사용 가능.  \n",
        "\n",
        "<br>\n",
        "\n",
        "**사용법**\n",
        "> ```python\n",
        "> for 문자 in 문자열:  \n",
        ">     반복실행문\n",
        "> ```"
      ]
    },
    {
      "cell_type": "code",
      "execution_count": 10,
      "metadata": {},
      "outputs": [
        {
          "name": "stdout",
          "output_type": "stream",
          "text": [
            "a\n",
            "p\n",
            "p\n",
            "l\n",
            "e\n"
          ]
        }
      ],
      "source": [
        "for char in 'apple':\n",
        "    print(char)"
      ]
    },
    {
      "cell_type": "code",
      "execution_count": null,
      "metadata": {},
      "outputs": [],
      "source": []
    },
    {
      "cell_type": "markdown",
      "metadata": {
        "id": "51974mJZbJaA"
      },
      "source": [
        "##### for문과 리스트\n",
        "\n",
        "for문과 리스트를 활용하면 리스트의 각 요소를  \n",
        "순차적으로 하나씩 꺼내서 사용 가능.  \n",
        "이를 '리스트 순회'라고 함\n",
        "\n",
        "\n",
        "**사용법**\n",
        "> ```python\n",
        "> for 요소 in 리스트:  \n",
        ">    반복실행문\n",
        "> ```\n",
        "\n",
        "<br>\n",
        "\n",
        "리스트 생성 시 for문을 유용하게 사용 가능  \n",
        "리스트 내부에 for문을 포함하는 리스트 내포(list comprehension)을 사용하면  \n",
        "리스트를 쉽게 생성 가능  \n",
        "\n",
        "**사용법**\n",
        "> ```python\n",
        "> [표현식 for 변수 in 반복가능객체]\n",
        "> ```"
      ]
    },
    {
      "cell_type": "code",
      "execution_count": 11,
      "metadata": {},
      "outputs": [
        {
          "name": "stdout",
          "output_type": "stream",
          "text": [
            "apple\n",
            "banana\n",
            "kiwi\n"
          ]
        }
      ],
      "source": [
        "for fruit in ['apple', 'banana', 'kiwi']:\n",
        "    print(fruit)"
      ]
    },
    {
      "cell_type": "code",
      "execution_count": 12,
      "metadata": {},
      "outputs": [
        {
          "data": {
            "text/plain": [
              "[2, 4, 6]"
            ]
          },
          "execution_count": 12,
          "metadata": {},
          "output_type": "execute_result"
        }
      ],
      "source": [
        "[i*2 for i in [1, 2, 3]]"
      ]
    },
    {
      "cell_type": "markdown",
      "metadata": {
        "id": "k-CKxic6bJeI"
      },
      "source": [
        "##### for문과 튜플\n",
        "\n",
        "for문과 튜플을 활용하면 튜플의 각 요소를  \n",
        "순차적으로 하나씩 꺼내서 사용 가능  \n",
        "<br>\n",
        "\n",
        "**사용법**\n",
        "> ```python\n",
        "> for 요소 in 튜플:  \n",
        ">     반복실행문\n",
        "> ```"
      ]
    },
    {
      "cell_type": "code",
      "execution_count": 13,
      "metadata": {},
      "outputs": [
        {
          "name": "stdout",
          "output_type": "stream",
          "text": [
            "apple\n",
            "banana\n",
            "kiwi\n"
          ]
        }
      ],
      "source": [
        "for fruit in ('apple', 'banana', 'kiwi'):\n",
        "    print(fruit)"
      ]
    },
    {
      "cell_type": "markdown",
      "metadata": {
        "id": "Eb_R8UHUbJgi"
      },
      "source": [
        "##### for문과 range() 함수\n",
        "\n",
        "range()함수는 정수 범위를 만들어 낼 때 유용한 함수.  \n",
        "<br>\n",
        "\n",
        "**range 함수 사용법** \n",
        ">```python\n",
        ">range(초깃값, 종료값, 증감값)\n",
        ">```\n",
        "<br>\n",
        "\n",
        "range 함수 구성 요소는 다음과 같은 특징을 지님  \n",
        "1. 초깃값부터 종료값 이전까지 숫자n의 컬렉션을 생성  \n",
        "  (초깃값 <= n < 종료값)\n",
        "2. 초깃값을 생략하면 0부터 시작  \n",
        "3. 종료값은 생략 불가\n",
        "4. 증감값을 생략하면 1씩 증가\n",
        "\n",
        "range를 통해 값을 생성하면 어떤 값이 생성되었는지 바로 확인 불가  \n",
        "이 경우 list와 같은 시퀀스 자료형을 통해 변환해야 함"
      ]
    },
    {
      "cell_type": "code",
      "execution_count": 14,
      "metadata": {},
      "outputs": [
        {
          "name": "stdout",
          "output_type": "stream",
          "text": [
            "range(0, 10)\n",
            "[0, 1, 2, 3, 4, 5, 6, 7, 8, 9]\n",
            "[0, 2, 4, 6, 8]\n",
            "[10, 9, 8, 7, 6, 5, 4, 3, 2, 1]\n"
          ]
        }
      ],
      "source": [
        "print(range(10))\n",
        "print(list(range(10)))\n",
        "print(list(range(0, 10, 2)))\n",
        "print(list(range(10, 0, -1)))"
      ]
    },
    {
      "cell_type": "markdown",
      "metadata": {
        "id": "Al9lNRHba7Mu"
      },
      "source": [
        "#### 5.2.2.2 비시퀀스와 for문"
      ]
    },
    {
      "cell_type": "markdown",
      "metadata": {
        "id": "-F95XicGeW8S"
      },
      "source": [
        "##### for문과 세트\n",
        "\n",
        "for문과 세트를 활용하면 세트의 각 요소를  \n",
        "순서에 상관 없이 하나씩 꺼내서 사용 가능\n",
        "<br>\n",
        "\n",
        "**사용법**\n",
        "```python\n",
        "for 요소 in 세트:  \n",
        "    반복실행문\n",
        "```"
      ]
    },
    {
      "cell_type": "code",
      "execution_count": 15,
      "metadata": {},
      "outputs": [
        {
          "name": "stdout",
          "output_type": "stream",
          "text": [
            "바위\n",
            "보\n",
            "가위\n"
          ]
        }
      ],
      "source": [
        "for item in {'가위', '바위', '보'}:\n",
        "    print(item)"
      ]
    },
    {
      "cell_type": "markdown",
      "metadata": {
        "id": "blR-2X0QfEwL"
      },
      "source": [
        "##### for문과 딕셔너리\n",
        "\n",
        "for문과 딕셔너리를 활요하면 딕셔너리의 각 key, value을  \n",
        "하나씩 꺼내어 사용 가능  \n",
        "\n",
        "<br>\n",
        "\n",
        "**사용법**  \n",
        "1. key 요소만 접근할 경우\n",
        "     > ```python\n",
        "     > for key in 딕셔너리:\n",
        "     >      반복실행문\n",
        "     > ```\n",
        "\n",
        "2. value 요소만 접근할 경우\n",
        "     >```python\n",
        "     >for key in 딕셔너리.values():  \n",
        "     >     반복실행문\n",
        "     >```\n",
        "\n",
        "\n",
        "3. key, value 요소 모두 접근할 경우  \n",
        "     >```python\n",
        "     >for key, value in 딕셔너리.items():  \n",
        "     >     반복실행문\n",
        "     >```"
      ]
    },
    {
      "cell_type": "code",
      "execution_count": 16,
      "metadata": {},
      "outputs": [
        {
          "name": "stdout",
          "output_type": "stream",
          "text": [
            "name\n",
            "age\n"
          ]
        }
      ],
      "source": [
        "person = {'name': 'emily', 'age': 20}\n",
        "\n",
        "for key in person:\n",
        "    print(key)"
      ]
    },
    {
      "cell_type": "code",
      "execution_count": 17,
      "metadata": {},
      "outputs": [
        {
          "name": "stdout",
          "output_type": "stream",
          "text": [
            "name\n",
            "age\n"
          ]
        }
      ],
      "source": [
        "person = {'name': 'emily', 'age': 20}\n",
        "\n",
        "for key in person.keys():\n",
        "    print(key)"
      ]
    },
    {
      "cell_type": "code",
      "execution_count": 18,
      "metadata": {},
      "outputs": [
        {
          "name": "stdout",
          "output_type": "stream",
          "text": [
            "emily\n",
            "20\n"
          ]
        }
      ],
      "source": [
        "person = {'name': 'emily', 'age': 20}\n",
        "\n",
        "for key in person.values():\n",
        "    print(key)"
      ]
    },
    {
      "cell_type": "code",
      "execution_count": 19,
      "metadata": {},
      "outputs": [],
      "source": [
        "(a, b) = ('name', 'emily')"
      ]
    },
    {
      "cell_type": "code",
      "execution_count": 20,
      "metadata": {},
      "outputs": [
        {
          "name": "stdout",
          "output_type": "stream",
          "text": [
            "name emily\n",
            "age 20\n"
          ]
        }
      ],
      "source": [
        "person = {'name': 'emily', 'age': 20}\n",
        "\n",
        "for key, value in person.items():\n",
        "    print(key, value)"
      ]
    },
    {
      "cell_type": "markdown",
      "metadata": {},
      "source": [
        "### practice\n",
        "\n",
        "구구단"
      ]
    },
    {
      "cell_type": "code",
      "execution_count": 21,
      "metadata": {},
      "outputs": [
        {
          "name": "stdout",
          "output_type": "stream",
          "text": [
            "5 * 1 = 5\n",
            "5 * 2 = 10\n",
            "5 * 3 = 15\n",
            "5 * 4 = 20\n",
            "5 * 5 = 25\n",
            "5 * 6 = 30\n",
            "5 * 7 = 35\n",
            "5 * 8 = 40\n",
            "5 * 9 = 45\n"
          ]
        }
      ],
      "source": [
        "dan = int(input())\n",
        "\n",
        "for i in range(1, 10):\n",
        "    print(f'{dan} * {i} = {dan*i}')"
      ]
    },
    {
      "cell_type": "markdown",
      "metadata": {
        "id": "goP2BMG0lZcr"
      },
      "source": [
        "## 5.3 기타 제어문"
      ]
    },
    {
      "cell_type": "markdown",
      "metadata": {
        "id": "TwSw-wr5SeJ6"
      },
      "source": [
        "### 5.3.1 break\n",
        "\n",
        "break문은 while문이나 for문과 같은 반복문을\n",
        "강제로 종료하고자 할 때 사용하는 제어문\n",
        "\n",
        "반복문 내에서 break문이 나타나면 곧바로 break문이 포함된 반복문은 종료  "
      ]
    },
    {
      "cell_type": "code",
      "execution_count": 22,
      "metadata": {
        "id": "JDzB7PeNTnlx"
      },
      "outputs": [
        {
          "name": "stdout",
          "output_type": "stream",
          "text": [
            "1\n",
            "2\n",
            "3\n",
            "4\n",
            "5\n",
            "6\n",
            "done\n"
          ]
        }
      ],
      "source": [
        "for i in range(1, 10):\n",
        "    if i%7 == 0:\n",
        "        break\n",
        "    \n",
        "    print(i)\n",
        "\n",
        "print('done')"
      ]
    },
    {
      "cell_type": "markdown",
      "metadata": {
        "id": "FFnR95z0SeMJ"
      },
      "source": [
        "### 5.3.2 continue\n",
        "\n",
        "continue문은 반복문의 시작 지점으로 제어의 흐름을 옮기는 역할을 수행.  \n",
        "\n",
        "만약 1에서 100부터의 합을 구한다고 할 때 3의 배수를  \n",
        "합계에서 제외하고 싶은 경우 등에 사용"
      ]
    },
    {
      "cell_type": "code",
      "execution_count": 23,
      "metadata": {
        "id": "gbI6OfpKUtb6"
      },
      "outputs": [
        {
          "name": "stdout",
          "output_type": "stream",
          "text": [
            "1\n",
            "2\n",
            "3\n",
            "4\n",
            "5\n",
            "6\n",
            "8\n",
            "9\n",
            "done\n"
          ]
        }
      ],
      "source": [
        "for i in range(1, 10):\n",
        "    if i%7 == 0:\n",
        "        continue\n",
        "    \n",
        "    print(i)\n",
        "\n",
        "print('done')"
      ]
    },
    {
      "cell_type": "markdown",
      "metadata": {
        "id": "Ehcq1lL2SeOh"
      },
      "source": [
        "### 5.3.3 return\n",
        "\n",
        "return은 함수 끝에 입력돼서 해당 함수를 호출한 곳으로   \n",
        "데이터를 반환하는 역할 또는, 함수의 종료를 알리는 기능."
      ]
    },
    {
      "cell_type": "code",
      "execution_count": 35,
      "metadata": {
        "id": "hb3JklYaUtxl"
      },
      "outputs": [
        {
          "name": "stdout",
          "output_type": "stream",
          "text": [
            "1\n",
            "2\n",
            "3\n",
            "4\n",
            "5\n",
            "6\n"
          ]
        }
      ],
      "source": [
        "def test():\n",
        "    for i in range(1, 10):\n",
        "        if i%7 == 0:\n",
        "            return\n",
        "    \n",
        "        print(i)\n",
        "    \n",
        "    print('done')\n",
        "\n",
        "test()"
      ]
    },
    {
      "cell_type": "code",
      "execution_count": 25,
      "metadata": {},
      "outputs": [
        {
          "name": "stdout",
          "output_type": "stream",
          "text": [
            "hello\n"
          ]
        }
      ],
      "source": [
        "a = 'hello'\n",
        "print(a)"
      ]
    },
    {
      "cell_type": "markdown",
      "metadata": {},
      "source": [
        "## Assignment"
      ]
    },
    {
      "cell_type": "markdown",
      "metadata": {},
      "source": [
        "사용자로부터 임의의 정수를 입력받아 모두 리스트에 보관.  \n",
        "단, 사용자가 0을 입력하면 더 이상 입력받지 않고 프로그램 종료.  \n",
        "0은 리스트에 보관 안 함  "
      ]
    },
    {
      "cell_type": "code",
      "execution_count": 42,
      "metadata": {},
      "outputs": [
        {
          "name": "stdout",
          "output_type": "stream",
          "text": [
            "[1, 2, 3, 4, 5]\n"
          ]
        }
      ],
      "source": [
        "num = int(input())\n",
        "temp = []\n",
        "\n",
        "while num != 0:\n",
        "    temp.append(num)\n",
        "    num = int(input())\n",
        "\n",
        "print(temp)"
      ]
    },
    {
      "cell_type": "markdown",
      "metadata": {},
      "source": [
        "정수를 입력받아 그 횟수만큼 hello를 출력하는 프로그램 구현  \n",
        "0 이하의 값이 입력되면 잘못된 메세지 표시  "
      ]
    },
    {
      "cell_type": "code",
      "execution_count": 44,
      "metadata": {},
      "outputs": [],
      "source": [
        "num = int(input())\n",
        "\n",
        "# while True: \n",
        "#     if num > 0:\n",
        "#         print(' hello' * num)\n",
        "#         num = int(input())\n",
        "#     elif num <= 0:\n",
        "#         print('error')\n",
        "#         break\n",
        "num = int(input())\n",
        "if num <= 0:\n",
        "    print('error')\n",
        "else:\n",
        "    for i in range(num):\n",
        "        print('hello')\n"
      ]
    },
    {
      "cell_type": "code",
      "execution_count": null,
      "metadata": {},
      "outputs": [],
      "source": []
    },
    {
      "cell_type": "markdown",
      "metadata": {},
      "source": [
        "0부터 9 사이의 정수를 입력받음.  \n",
        "입력된 정수가 5개가 될 때까지 입력  \n",
        "중복된 값이 입력되면 해당 값은 무시  "
      ]
    },
    {
      "cell_type": "code",
      "execution_count": 23,
      "metadata": {},
      "outputs": [],
      "source": [
        "num = int(input())\n",
        "temp = []\n",
        "num_count = 0\n",
        "\n",
        "while num_count < 5:\n",
        "    if temp.count(num) == 0:\n",
        "        num_count += 1\n",
        "        temp.append(num)\n",
        "        num = int(input())\n",
        "    else:\n",
        "        num = int(input())\n"
      ]
    },
    {
      "cell_type": "code",
      "execution_count": 38,
      "metadata": {},
      "outputs": [],
      "source": [
        "num = int(input())\n",
        "temp = []\n",
        "num_count = 0\n",
        "\n",
        "while num_count < 5:\n",
        "    num = int(input())\n",
        "    if num in temp:\n",
        "        continue\n",
        "\n",
        "    temp.append(num)\n",
        "    num_count += 1 "
      ]
    },
    {
      "cell_type": "code",
      "execution_count": 39,
      "metadata": {},
      "outputs": [
        {
          "name": "stdout",
          "output_type": "stream",
          "text": [
            "[1, 2, 3, 4, 5]\n"
          ]
        }
      ],
      "source": [
        "print(temp)"
      ]
    },
    {
      "cell_type": "markdown",
      "metadata": {},
      "source": [
        "1부터 100 사이의 모든 정수 한 줄에 10개씩 출력"
      ]
    },
    {
      "cell_type": "code",
      "execution_count": 51,
      "metadata": {},
      "outputs": [
        {
          "name": "stdout",
          "output_type": "stream",
          "text": [
            "1 2 3 4 5 6 7 8 9 10\n",
            "11 12 13 14 15 16 17 18 19 20\n",
            "21 22 23 24 25 26 27 28 29 30\n",
            "31 32 33 34 35 36 37 38 39 40\n",
            "41 42 43 44 45 46 47 48 49 50\n",
            "51 52 53 54 55 56 57 58 59 60\n",
            "61 62 63 64 65 66 67 68 69 70\n",
            "71 72 73 74 75 76 77 78 79 80\n",
            "81 82 83 84 85 86 87 88 89 90\n",
            "91 92 93 94 95 96 97 98 99 100\n"
          ]
        }
      ],
      "source": [
        "for num in range(1, 101):\n",
        "    if num%10 != 0:\n",
        "        print(num, end=\" \")\n",
        "    else:\n",
        "        print(num)"
      ]
    },
    {
      "cell_type": "markdown",
      "metadata": {},
      "source": [
        "임의의 정수를 입력받아 1부터 입력받은   \n",
        "모든 정수의 합계 출력하는 프로그램 구현"
      ]
    },
    {
      "cell_type": "code",
      "execution_count": 53,
      "metadata": {},
      "outputs": [
        {
          "name": "stdout",
          "output_type": "stream",
          "text": [
            "6\n"
          ]
        }
      ],
      "source": [
        "num = int(input())\n",
        "num_sum = 0\n",
        "\n",
        "for n in range(1, num+1):\n",
        "    num_sum += n\n",
        "\n",
        "print(num_sum)"
      ]
    },
    {
      "cell_type": "markdown",
      "metadata": {},
      "source": [
        "중간고사 성적이 발표되었다고 한다.  \n",
        "어느 반의 국어 점수는 다음과 같다.  \n",
        "99, 78, 100, 91, 81, 85, 54, 100, 71, 50  \n",
        "전산 오류로 학생들의 점수가 5점 낮게 나왔다고 한다.  \n",
        "점수를 정정하여 출력하는 프로그램 작성.  \n",
        "(점수는 100점을 넘을 수 없다)"
      ]
    },
    {
      "cell_type": "code",
      "execution_count": 61,
      "metadata": {},
      "outputs": [
        {
          "name": "stdout",
          "output_type": "stream",
          "text": [
            "[100, 83, 100, 96, 86, 90, 59, 100, 76, 55]\n"
          ]
        }
      ],
      "source": [
        "score = [99, 78, 100, 91, 81, 85, 54, 100, 71, 50]\n",
        "score2 = []\n",
        "\n",
        "for num in score:\n",
        "    if num + 5 > 100:\n",
        "        score2.append(100)\n",
        "    else:\n",
        "        score2.append(num+5)\n",
        "print(score2)\n"
      ]
    }
  ],
  "metadata": {
    "colab": {
      "provenance": [],
      "toc_visible": true
    },
    "kernelspec": {
      "display_name": "Python 3.9.12 ('base')",
      "language": "python",
      "name": "python3"
    },
    "language_info": {
      "codemirror_mode": {
        "name": "ipython",
        "version": 3
      },
      "file_extension": ".py",
      "mimetype": "text/x-python",
      "name": "python",
      "nbconvert_exporter": "python",
      "pygments_lexer": "ipython3",
      "version": "3.11.7"
    },
    "vscode": {
      "interpreter": {
        "hash": "e4af6128c7e0808fede432f38729c473c5b0d80882e83c469acdb54455c56396"
      }
    }
  },
  "nbformat": 4,
  "nbformat_minor": 0
}
